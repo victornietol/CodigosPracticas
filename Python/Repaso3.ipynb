{
 "cells": [
  {
   "cell_type": "markdown",
   "id": "9d6f117d",
   "metadata": {},
   "source": [
    "# Factorial"
   ]
  },
  {
   "cell_type": "code",
   "execution_count": 15,
   "id": "ebe092ed",
   "metadata": {},
   "outputs": [
    {
     "name": "stdout",
     "output_type": "stream",
     "text": [
      "0! = 1\n",
      "1! = 1\n",
      "2! = 2\n",
      "3! = 6\n",
      "4! = 24\n",
      "5! = 120\n",
      "6! = 720\n",
      "7! = 5040\n",
      "8! = 40320\n",
      "9! = 362880\n",
      "10! = 3628800\n"
     ]
    }
   ],
   "source": [
    "# Factorial\n",
    "def factorial(numero: int) -> int:\n",
    "    if numero==1 or numero==0:\n",
    "        return 1;\n",
    "    elif numero>1:\n",
    "        return numero * factorial(numero-1)\n",
    "    \n",
    "\n",
    "\n",
    "################# Pruebas ##################\n",
    "for i in range(11):\n",
    "    fac = factorial(i)\n",
    "    print(f\"{i}! = {fac}\")"
   ]
  },
  {
   "cell_type": "code",
   "execution_count": 16,
   "id": "81a60395",
   "metadata": {},
   "outputs": [
    {
     "name": "stdout",
     "output_type": "stream",
     "text": [
      "0! = 1\n",
      "1! = 1\n",
      "2! = 2\n",
      "3! = 6\n",
      "4! = 24\n",
      "5! = 120\n",
      "6! = 720\n",
      "7! = 5040\n",
      "8! = 40320\n",
      "9! = 362880\n",
      "10! = 3628800\n"
     ]
    }
   ],
   "source": [
    "def factorial_sin_rec(n:int):\n",
    "    res = 1\n",
    "    for i in range(1,n+1):\n",
    "        res = res*(i)\n",
    "    return res\n",
    "\n",
    "\n",
    "################# Pruebas ##################\n",
    "for i in range(11):\n",
    "    fac = factorial_sin_rec(i)\n",
    "    print(f\"{i}! = {fac}\")\n"
   ]
  },
  {
   "cell_type": "markdown",
   "id": "28368286",
   "metadata": {},
   "source": [
    "# Fibonacci"
   ]
  },
  {
   "cell_type": "code",
   "execution_count": 32,
   "id": "80255cc4",
   "metadata": {},
   "outputs": [
    {
     "name": "stdout",
     "output_type": "stream",
     "text": [
      "[0, 1, 1, 2, 3, 5, 8, 13, 21, 34, 55]\n"
     ]
    }
   ],
   "source": [
    "def serie_fibonacci(n_elementos: int) -> list:\n",
    "    serie = [0,1]\n",
    "    for i in range(2,n_elementos):\n",
    "        nuevo_numero = serie[i-2] + serie[i-1]\n",
    "        serie.append(nuevo_numero)\n",
    "    return serie\n",
    "\n",
    "\n",
    "\n",
    "#### Pruebas ####\n",
    "\n",
    "serie = serie_fibonacci(11)\n",
    "print(serie)"
   ]
  },
  {
   "cell_type": "code",
   "execution_count": null,
   "id": "1e16d03d",
   "metadata": {},
   "outputs": [
    {
     "name": "stdout",
     "output_type": "stream",
     "text": [
      "55\n"
     ]
    }
   ],
   "source": [
    "def elemento_fibonacci(indice_elemento: int):\n",
    "    '''Indice inicia en 0'''\n",
    "    if indice_elemento==0:\n",
    "        return 0;\n",
    "    elif indice_elemento==1:\n",
    "        return 1\n",
    "    else:\n",
    "        return elemento_fibonacci(indice_elemento-1) + elemento_fibonacci(indice_elemento-2)\n",
    "    \n",
    "\n",
    "###### Pruebas #####\n",
    "elemento_fib = elemento_fibonacci(10)\n",
    "print(elemento_fib)"
   ]
  },
  {
   "cell_type": "markdown",
   "id": "a6f3838e",
   "metadata": {},
   "source": [
    "# Potencia con recursividad"
   ]
  },
  {
   "cell_type": "code",
   "execution_count": null,
   "id": "3e6cfb20",
   "metadata": {},
   "outputs": [
    {
     "name": "stdout",
     "output_type": "stream",
     "text": [
      "1024\n"
     ]
    }
   ],
   "source": [
    "def potencia(num: int, exp:int):\n",
    "    if exp == 1:\n",
    "        return num\n",
    "    else:\n",
    "        return num * potencia(num, exp-1)\n",
    "    \n",
    "\n",
    "#### Pruebas ####\n",
    "pot = potencia(2,10)\n",
    "print(pot)"
   ]
  },
  {
   "cell_type": "markdown",
   "id": "6532de2b",
   "metadata": {},
   "source": [
    "# Numeros del 1 al 100 que son pares y multiplos de 8"
   ]
  },
  {
   "cell_type": "code",
   "execution_count": 51,
   "id": "7534b732",
   "metadata": {},
   "outputs": [
    {
     "name": "stdout",
     "output_type": "stream",
     "text": [
      "8\n",
      "16\n",
      "24\n",
      "32\n",
      "40\n",
      "48\n",
      "56\n",
      "64\n",
      "72\n",
      "80\n",
      "88\n",
      "96\n"
     ]
    }
   ],
   "source": [
    "for i in range(1,101):\n",
    "    if(i % 8) == 0:\n",
    "        print(i)"
   ]
  },
  {
   "cell_type": "markdown",
   "id": "12604d5e",
   "metadata": {},
   "source": [
    "# Suma de N numeros naturales"
   ]
  },
  {
   "cell_type": "code",
   "execution_count": 55,
   "id": "e0ef73d1",
   "metadata": {},
   "outputs": [
    {
     "name": "stdout",
     "output_type": "stream",
     "text": [
      "15\n"
     ]
    }
   ],
   "source": [
    "def suma_naturales(cantidad: int) -> int:\n",
    "    if cantidad == 1:\n",
    "        return 1\n",
    "    else:\n",
    "        return cantidad + suma_naturales(cantidad-1)\n",
    "    \n",
    "\n",
    "### Prueba ###\n",
    "suma = suma_naturales(5)\n",
    "print(suma)"
   ]
  },
  {
   "cell_type": "markdown",
   "id": "b2f7b473",
   "metadata": {},
   "source": [
    "# Verificar palindromo"
   ]
  },
  {
   "cell_type": "code",
   "execution_count": null,
   "id": "bef28824",
   "metadata": {},
   "outputs": [
    {
     "name": "stdout",
     "output_type": "stream",
     "text": [
      "True\n"
     ]
    }
   ],
   "source": [
    "def es_palindromo(palabra:str) -> bool:\n",
    "    palabra = palabra.lower()\n",
    "    longitud = len(palabra)\n",
    "    for i in range(longitud//2): # Se revisa hasta la mitad de la palabra\n",
    "        if palabra[i] != palabra[longitud-i-1]:\n",
    "            return False\n",
    "    return True # Si se ejecuta todo el ciclo entonces es palindromo\n",
    "\n",
    "\n",
    "## Prueba ##\n",
    "print(es_palindromo(\"reconocer\"))\n"
   ]
  }
 ],
 "metadata": {
  "kernelspec": {
   "display_name": "base",
   "language": "python",
   "name": "python3"
  },
  "language_info": {
   "codemirror_mode": {
    "name": "ipython",
    "version": 3
   },
   "file_extension": ".py",
   "mimetype": "text/x-python",
   "name": "python",
   "nbconvert_exporter": "python",
   "pygments_lexer": "ipython3",
   "version": "3.11.7"
  }
 },
 "nbformat": 4,
 "nbformat_minor": 5
}
