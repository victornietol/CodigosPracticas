{
 "cells": [
  {
   "cell_type": "markdown",
   "id": "9d6f117d",
   "metadata": {},
   "source": [
    "# Factorial"
   ]
  },
  {
   "cell_type": "code",
   "execution_count": 15,
   "id": "ebe092ed",
   "metadata": {},
   "outputs": [
    {
     "name": "stdout",
     "output_type": "stream",
     "text": [
      "0! = 1\n",
      "1! = 1\n",
      "2! = 2\n",
      "3! = 6\n",
      "4! = 24\n",
      "5! = 120\n",
      "6! = 720\n",
      "7! = 5040\n",
      "8! = 40320\n",
      "9! = 362880\n",
      "10! = 3628800\n"
     ]
    }
   ],
   "source": [
    "# Factorial\n",
    "def factorial(numero: int) -> int:\n",
    "    if numero==1 or numero==0:\n",
    "        return 1;\n",
    "    elif numero>1:\n",
    "        return numero * factorial(numero-1)\n",
    "    \n",
    "\n",
    "\n",
    "################# Pruebas ##################\n",
    "for i in range(11):\n",
    "    fac = factorial(i)\n",
    "    print(f\"{i}! = {fac}\")"
   ]
  },
  {
   "cell_type": "code",
   "execution_count": 16,
   "id": "81a60395",
   "metadata": {},
   "outputs": [
    {
     "name": "stdout",
     "output_type": "stream",
     "text": [
      "0! = 1\n",
      "1! = 1\n",
      "2! = 2\n",
      "3! = 6\n",
      "4! = 24\n",
      "5! = 120\n",
      "6! = 720\n",
      "7! = 5040\n",
      "8! = 40320\n",
      "9! = 362880\n",
      "10! = 3628800\n"
     ]
    }
   ],
   "source": [
    "def factorial_sin_rec(n:int):\n",
    "    res = 1\n",
    "    for i in range(1,n+1):\n",
    "        res = res*(i)\n",
    "    return res\n",
    "\n",
    "\n",
    "################# Pruebas ##################\n",
    "for i in range(11):\n",
    "    fac = factorial_sin_rec(i)\n",
    "    print(f\"{i}! = {fac}\")\n"
   ]
  },
  {
   "cell_type": "markdown",
   "id": "28368286",
   "metadata": {},
   "source": [
    "# Fibonacci"
   ]
  },
  {
   "cell_type": "code",
   "execution_count": 32,
   "id": "80255cc4",
   "metadata": {},
   "outputs": [
    {
     "name": "stdout",
     "output_type": "stream",
     "text": [
      "[0, 1, 1, 2, 3, 5, 8, 13, 21, 34, 55]\n"
     ]
    }
   ],
   "source": [
    "def serie_fibonacci(n_elementos: int) -> list:\n",
    "    serie = [0,1]\n",
    "    for i in range(2,n_elementos):\n",
    "        nuevo_numero = serie[i-2] + serie[i-1]\n",
    "        serie.append(nuevo_numero)\n",
    "    return serie\n",
    "\n",
    "\n",
    "\n",
    "#### Pruebas ####\n",
    "\n",
    "serie = serie_fibonacci(11)\n",
    "print(serie)"
   ]
  },
  {
   "cell_type": "code",
   "execution_count": null,
   "id": "1e16d03d",
   "metadata": {},
   "outputs": [
    {
     "name": "stdout",
     "output_type": "stream",
     "text": [
      "55\n"
     ]
    }
   ],
   "source": [
    "def elemento_fibonacci(indice_elemento: int):\n",
    "    '''Indice inicia en 0'''\n",
    "    if indice_elemento==0:\n",
    "        return 0;\n",
    "    elif indice_elemento==1:\n",
    "        return 1\n",
    "    else:\n",
    "        return elemento_fibonacci(indice_elemento-1) + elemento_fibonacci(indice_elemento-2)\n",
    "    \n",
    "\n",
    "###### Pruebas #####\n",
    "elemento_fib = elemento_fibonacci(10)\n",
    "print(elemento_fib)"
   ]
  },
  {
   "cell_type": "markdown",
   "id": "a6f3838e",
   "metadata": {},
   "source": [
    "# Potencia con recursividad"
   ]
  },
  {
   "cell_type": "code",
   "execution_count": null,
   "id": "3e6cfb20",
   "metadata": {},
   "outputs": [
    {
     "name": "stdout",
     "output_type": "stream",
     "text": [
      "1024\n"
     ]
    }
   ],
   "source": [
    "def potencia(num: int, exp:int):\n",
    "    if exp == 1:\n",
    "        return num\n",
    "    else:\n",
    "        return num * potencia(num, exp-1)\n",
    "    \n",
    "\n",
    "#### Pruebas ####\n",
    "pot = potencia(2,10)\n",
    "print(pot)"
   ]
  },
  {
   "cell_type": "markdown",
   "id": "6532de2b",
   "metadata": {},
   "source": [
    "# Numeros del 1 al 100 que son pares y multiplos de 8"
   ]
  },
  {
   "cell_type": "code",
   "execution_count": 51,
   "id": "7534b732",
   "metadata": {},
   "outputs": [
    {
     "name": "stdout",
     "output_type": "stream",
     "text": [
      "8\n",
      "16\n",
      "24\n",
      "32\n",
      "40\n",
      "48\n",
      "56\n",
      "64\n",
      "72\n",
      "80\n",
      "88\n",
      "96\n"
     ]
    }
   ],
   "source": [
    "for i in range(1,101):\n",
    "    if(i % 8) == 0:\n",
    "        print(i)"
   ]
  },
  {
   "cell_type": "markdown",
   "id": "12604d5e",
   "metadata": {},
   "source": [
    "# Suma de N numeros naturales"
   ]
  },
  {
   "cell_type": "code",
   "execution_count": 55,
   "id": "e0ef73d1",
   "metadata": {},
   "outputs": [
    {
     "name": "stdout",
     "output_type": "stream",
     "text": [
      "15\n"
     ]
    }
   ],
   "source": [
    "def suma_naturales(cantidad: int) -> int:\n",
    "    if cantidad == 1:\n",
    "        return 1\n",
    "    else:\n",
    "        return cantidad + suma_naturales(cantidad-1)\n",
    "    \n",
    "\n",
    "### Prueba ###\n",
    "suma = suma_naturales(5)\n",
    "print(suma)"
   ]
  },
  {
   "cell_type": "markdown",
   "id": "b2f7b473",
   "metadata": {},
   "source": [
    "# Verificar palindromo"
   ]
  },
  {
   "cell_type": "code",
   "execution_count": null,
   "id": "bef28824",
   "metadata": {},
   "outputs": [
    {
     "name": "stdout",
     "output_type": "stream",
     "text": [
      "True\n"
     ]
    }
   ],
   "source": [
    "def es_palindromo(palabra:str) -> bool:\n",
    "    palabra = palabra.lower()\n",
    "    longitud = len(palabra)\n",
    "    for i in range(longitud//2): # Se revisa hasta la mitad de la palabra\n",
    "        if palabra[i] != palabra[longitud-i-1]:\n",
    "            return False\n",
    "    return True # Si se ejecuta todo el ciclo entonces es palindromo\n",
    "\n",
    "\n",
    "## Prueba ##\n",
    "print(es_palindromo(\"reconocer\"))\n"
   ]
  },
  {
   "cell_type": "markdown",
   "id": "175c3a4f",
   "metadata": {},
   "source": [
    "# Laberinto"
   ]
  },
  {
   "cell_type": "code",
   "execution_count": 13,
   "id": "406958d4",
   "metadata": {},
   "outputs": [
    {
     "name": "stdout",
     "output_type": "stream",
     "text": [
      "Salida encontrada!\n",
      "['*', 'X', 'X', 'X', 'X', 'X', 'X', 'X']\n",
      "['*', '*', '*', '*', 'X', '*', '*', 'X']\n",
      "['X', 'X', 'X', '*', 'X', '*', 'X', 'X']\n",
      "['X', '*', 'X', '*', '*', '*', 'X', 'X']\n",
      "['X', '*', 'X', 'X', 'X', '*', 'X', 'X']\n",
      "['X', '*', '*', '*', 'X', '*', '*', 'X']\n",
      "['X', 'X', 'X', '*', 'X', 'X', '*', 'X']\n",
      "['X', 'X', 'X', '*', '*', '*', '*', '#']\n",
      "\n",
      "[[0, 0], [1, 0], [1, 1], [1, 2], [1, 3], [2, 3], [3, 3], [3, 4], [3, 5], [4, 5], [5, 5], [5, 6], [6, 6], [7, 6], [7, 7]]\n"
     ]
    }
   ],
   "source": [
    "laberinto = [\n",
    "    ['E', 'X', 'X', 'X', 'X', 'X', 'X', 'X'],\n",
    "    ['O', 'O', 'O', 'O', 'X', 'O', 'O', 'X'],\n",
    "    ['X', 'X', 'X', 'O', 'X', 'O', 'X', 'X'],\n",
    "    ['X', 'O', 'X', 'O', 'O', 'O', 'X', 'X'],\n",
    "    ['X', 'O', 'X', 'X', 'X', 'O', 'X', 'X'],\n",
    "    ['X', 'O', 'O', 'O', 'X', 'O', 'O', 'X'],\n",
    "    ['X', 'X', 'X', 'O', 'X', 'X', 'O', 'X'],\n",
    "    ['X', 'X', 'X', 'O', 'O', 'O', 'O', 'S']\n",
    "]\n",
    "\n",
    "def solucion_laberinto(laberinto: list, solucion: list):\n",
    "    punto_actual = solucion[-1] # Obtener el punto actual (ultimo punto)\n",
    "\n",
    "    # Si es salida\n",
    "    if laberinto[punto_actual[0]][punto_actual[1]] == 'S':\n",
    "        laberinto[punto_actual[0]][punto_actual[1]] = '#' # Marcarlo como visitado\n",
    "        print(\"Salida encontrada!\")\n",
    "        for i in range(len(laberinto)):\n",
    "            print(laberinto[i])\n",
    "        print()\n",
    "        return solucion\n",
    "    \n",
    "    # Si el punto es valido (camino libre)\n",
    "    elif (laberinto[punto_actual[0]][punto_actual[1]] == 'E') or laberinto[punto_actual[0]][punto_actual[1]] == 'O':\n",
    "        \n",
    "        laberinto[punto_actual[0]][punto_actual[1]] = '*' # Marcarlo como visitado\n",
    "        '''\n",
    "        for i in range(len(laberinto)):\n",
    "            print(laberinto[i])\n",
    "        print()\n",
    "        '''\n",
    "        \n",
    "        # Verificar si izquierda es limite de tablero para moverse a esa posicion\n",
    "        if (punto_actual[1] - 1) >= 0:\n",
    "            nuevo_punto = [punto_actual[0], punto_actual[1] -1]\n",
    "            solucion.append(nuevo_punto)\n",
    "            resultado = solucion_laberinto(laberinto, solucion)\n",
    "            if resultado != None:\n",
    "                return resultado\n",
    "            solucion.pop() # Se regreda al estado anterior si no funciona el punto\n",
    "\n",
    "        # Verificar si arriba es limite de tablero para moverse a esa posicion\n",
    "        if (punto_actual[0] - 1) >= 0:\n",
    "            nuevo_punto = [punto_actual[0] -1, punto_actual[1]]\n",
    "            solucion.append(nuevo_punto)\n",
    "            resultado = solucion_laberinto(laberinto, solucion)\n",
    "            if resultado != None:\n",
    "                return resultado\n",
    "            solucion.pop() # Se regreda al estado anterior si no funciona el punto\n",
    "\n",
    "        # Verificar si derecha es limite de tablero para moverse a esa posicion\n",
    "        if (punto_actual[1] + 1) < len(laberinto[0]):\n",
    "            nuevo_punto = [punto_actual[0], punto_actual[1] +1]\n",
    "            solucion.append(nuevo_punto)\n",
    "            resultado = solucion_laberinto(laberinto, solucion)\n",
    "            if resultado != None:\n",
    "                return resultado\n",
    "            solucion.pop() # Se regreda al estado anterior si no funciona el punto\n",
    "\n",
    "        # Verificar si abajo es limite de tablero para moverse a esa posicion\n",
    "        if (punto_actual[0] + 1) < len(laberinto):\n",
    "            nuevo_punto = [punto_actual[0] +1, punto_actual[1]]\n",
    "            solucion.append(nuevo_punto)\n",
    "            resultado = solucion_laberinto(laberinto, solucion)\n",
    "            if resultado != None:\n",
    "                return resultado\n",
    "            solucion.pop() # Se regreda al estado anterior si no funciona el punto\n",
    "\n",
    "        # Si ningun bloque anterior funciona, entonces se regresa a la llamada anterior\n",
    "        return None\n",
    "\n",
    "    # No es punto valido (camino libre)\n",
    "    else:\n",
    "        return None\n",
    "    \n",
    "\n",
    "sol = solucion_laberinto(laberinto, [[0,0],])\n",
    "print(sol)\n"
   ]
  },
  {
   "cell_type": "markdown",
   "id": "a3cfc7b3",
   "metadata": {},
   "source": [
    "# Arbol binario de busqueda"
   ]
  },
  {
   "cell_type": "code",
   "execution_count": 10,
   "id": "a3bea4df",
   "metadata": {},
   "outputs": [
    {
     "name": "stdout",
     "output_type": "stream",
     "text": [
      "BTS [raiz=Nodo [valor=8, izq=Nodo [valor=3, izq=Nodo [valor=1, izq=None, der=None], der=Nodo [valor=6, izq=Nodo [valor=4, izq=None, der=None], der=Nodo [valor=7, izq=None, der=None]]], der=Nodo [valor=10, izq=None, der=Nodo [valor=14, izq=Nodo [valor=13, izq=None, der=None], der=None]]]]\n"
     ]
    }
   ],
   "source": [
    "class Nodo:\n",
    "    def __init__(self, valor):\n",
    "        self.__valor = valor\n",
    "        self.__izq = None\n",
    "        self.__der = None\n",
    "\n",
    "    @property\n",
    "    def valor(self):\n",
    "        return self.__valor\n",
    "    \n",
    "    @valor.setter\n",
    "    def valor(self, valor):\n",
    "        self.__valor = valor\n",
    "\n",
    "    @property\n",
    "    def izq(self):\n",
    "        return self.__izq\n",
    "    \n",
    "    @izq.setter\n",
    "    def izq(self, izq):\n",
    "        self.__izq = izq\n",
    "\n",
    "    @property\n",
    "    def der(self):\n",
    "        return self.__der\n",
    "    \n",
    "    @der.setter\n",
    "    def der(self, der):\n",
    "        self.__der = der\n",
    "\n",
    "    def __str__(self):\n",
    "        return f\"Nodo [valor={self.__valor}, izq={self.__izq}, der={self.__der}]\"\n",
    "    \n",
    "\n",
    "class BST:\n",
    "    \"Arbol binario de busqueda\"\n",
    "    def __init__(self, nodo_inicial=None):\n",
    "        self.__raiz = nodo_inicial if nodo_inicial!=None else None\n",
    "\n",
    "    def __insertarNodo(self, nodo_actual: Nodo, nodo_insertar: Nodo):\n",
    "        if(nodo_insertar.valor <= nodo_actual.valor):\n",
    "            # Buscar a la izquierda\n",
    "            if nodo_actual.izq == None:\n",
    "                # Insertar\n",
    "                nodo_actual.izq = nodo_insertar\n",
    "                return nodo_insertar\n",
    "            else:\n",
    "                # Buscar en el siguiente nodo\n",
    "                insertado = self.__insertarNodo(nodo_actual.izq, nodo_insertar)\n",
    "        \n",
    "        else:\n",
    "            # Buscar a la derecha\n",
    "            if nodo_actual.der == None:\n",
    "                #Insertar\n",
    "                nodo_actual.der = nodo_insertar\n",
    "                return nodo_insertar\n",
    "            else:\n",
    "                # Buscar en el siguiente nodo\n",
    "                insertado = self.__insertarNodo(nodo_actual.der, nodo_insertar)\n",
    "        \n",
    "        return insertado\n",
    "    \n",
    "    def insertar(self, nodo_insertar: Nodo):\n",
    "        '''Se inicia la insercion desde la raiz'''\n",
    "        if self.__raiz == None:\n",
    "            self.__raiz = nodo_insertar\n",
    "            return nodo_insertar\n",
    "        else:\n",
    "            return self.__insertarNodo(self.__raiz, nodo_insertar)\n",
    "\n",
    "    def __str__(self):\n",
    "        return f\"BTS [raiz={self.__raiz}]\"\n",
    "    \n",
    "\n",
    "#### Pruebas ####\n",
    "valoresNodos = [8, 3, 10, 1, 6, 14, 4, 7, 13]\n",
    "arbol = BST()\n",
    "\n",
    "for valor in valoresNodos:\n",
    "    arbol.insertar(Nodo(valor))\n",
    "\n",
    "print(arbol)\n",
    "    "
   ]
  },
  {
   "cell_type": "markdown",
   "id": "9156b5c8",
   "metadata": {},
   "source": [
    "# Subtring mas largo sin repetir"
   ]
  },
  {
   "cell_type": "code",
   "execution_count": 24,
   "id": "dbe830c6",
   "metadata": {},
   "outputs": [
    {
     "name": "stdout",
     "output_type": "stream",
     "text": [
      "abc\n",
      "b\n",
      "wke\n"
     ]
    }
   ],
   "source": [
    "def buscar_sub_string(cadena: str) -> str:\n",
    "    sub_string_final = \"\"\n",
    "    sub_string_actual =\"\"\n",
    "    for i in range(len(cadena)): # Recorrer cadena original\n",
    "        sub_string_actual = \"\"\n",
    "        sub_string_actual += cadena[i]\n",
    "        for j in range(i+1, len(cadena)): # Buscar subcadena\n",
    "            if cadena[j] not in sub_string_actual:\n",
    "                # Se agrega elemento\n",
    "                sub_string_actual += cadena[j]\n",
    "            else:\n",
    "                # Se reinicia la busqueda\n",
    "                if len(sub_string_actual) > len(sub_string_final):\n",
    "                    sub_string_final = sub_string_actual\n",
    "                break\n",
    "    return sub_string_final\n",
    "\n",
    "\n",
    "## Pruebas ##\n",
    "cadena = \"abcabcbb\"\n",
    "sub_string = buscar_sub_string(cadena)\n",
    "print(sub_string)\n",
    "\n",
    "cadena = \"bbbbb\"\n",
    "sub_string = buscar_sub_string(cadena)\n",
    "print(sub_string)\n",
    "\n",
    "cadena = \"pwwkew\"\n",
    "sub_string = buscar_sub_string(cadena)\n",
    "print(sub_string)"
   ]
  },
  {
   "cell_type": "markdown",
   "id": "0ce563d1",
   "metadata": {},
   "source": [
    "# Palindromo mas largo de una  cadena"
   ]
  },
  {
   "cell_type": "code",
   "execution_count": 25,
   "id": "0f1cd6c9",
   "metadata": {},
   "outputs": [
    {
     "name": "stdout",
     "output_type": "stream",
     "text": [
      "bab\n",
      "bb\n"
     ]
    }
   ],
   "source": [
    "def es_palindromo(cadena:str) -> bool:\n",
    "    longitud = len(cadena)\n",
    "    for i in range(longitud//2):\n",
    "        if cadena[i] != cadena[longitud-1 -i]:\n",
    "            return False # Es palindromo\n",
    "    return True # No es palindromo\n",
    "\n",
    "def palindromo_largo(cadena: str) -> str:\n",
    "    palindromo_final = \"\"\n",
    "    palindromo_actual = \"\"\n",
    "    cadena_actual = \"\"\n",
    "    for i in range(len(cadena)):\n",
    "        cadena_actual = \"\"\n",
    "        cadena_actual += cadena[i]\n",
    "        for j in range(i+1, len(cadena)): # Construyendo cadena\n",
    "            cadena_actual += cadena[j]\n",
    "            if es_palindromo(cadena_actual):\n",
    "                palindromo_actual = cadena_actual\n",
    "        if palindromo_actual > palindromo_final:\n",
    "            palindromo_final = palindromo_actual\n",
    "    return palindromo_final\n",
    "\n",
    "\n",
    "## Pruebas ##\n",
    "cadena = \"babad\"\n",
    "palindromo = palindromo_largo(cadena)\n",
    "print(palindromo)\n",
    "\n",
    "cadena = \"cbbd\"\n",
    "palindromo = palindromo_largo(cadena)\n",
    "print(palindromo)"
   ]
  },
  {
   "cell_type": "markdown",
   "id": "bfeaeb66",
   "metadata": {},
   "source": [
    "# Zigzag conversion\n",
    "The string \"PAYPALISHIRING\" is written in a zigzag pattern on a given number of rows like this: (you may want to display this pattern in a fixed font for better legibility)\n",
    "P   A   H   N\n",
    "A P L S I I G\n",
    "Y   I   R\n",
    "And then read line by line: \"PAHNAPLSIIGYIR\""
   ]
  },
  {
   "cell_type": "code",
   "execution_count": null,
   "id": "cb72f476",
   "metadata": {},
   "outputs": [
    {
     "name": "stdout",
     "output_type": "stream",
     "text": [
      "PAHNAPLSIIGYIR\n",
      "PINALSIGYAHRPI\n"
     ]
    }
   ],
   "source": [
    "def zigzag(cadena: str, n_rows: int) -> str:\n",
    "    matriz = [\"\" for i in range(n_rows)]\n",
    "\n",
    "    if n_rows > 2: # Mas de 2 caracteres\n",
    "        # Distribuir caracteres\n",
    "        insertar_vertical = True\n",
    "        ren = 0 # Renglon de insercion\n",
    "        for letra in cadena:\n",
    "            if insertar_vertical:\n",
    "                matriz[ren] += letra\n",
    "                ren += 1\n",
    "                if ren == n_rows: # Se llego al limite de renglones\n",
    "                    # Se ajusta para hacer insercion en diagonal en la sig iteracion\n",
    "                    ren -= 2\n",
    "                    insertar_vertical = False\n",
    "            else:\n",
    "                matriz[ren] += letra\n",
    "                ren -= 1\n",
    "                if ren == 0: # Se realizaron las inserciones en diagonal correspondientes\n",
    "                    insertar_vertical = True\n",
    "\n",
    "    else: # Menos de 3 caracteres\n",
    "        for i in range(len(cadena)):\n",
    "            indice = i%n_rows\n",
    "            matriz[indice] += cadena[i]\n",
    "    \n",
    "    # Crear cadena final\n",
    "    resultado = \"\"\n",
    "    for vector in matriz:\n",
    "        for caracter in vector:\n",
    "            resultado += caracter\n",
    "    return resultado\n",
    "\n",
    "\n",
    "\n",
    "mat = zigzag(\"PAYPALISHIRING\",3)\n",
    "print(mat)\n",
    "\n",
    "mat = zigzag(\"PAYPALISHIRING\",4)\n",
    "print(mat)"
   ]
  },
  {
   "cell_type": "markdown",
   "id": "c74185e8",
   "metadata": {},
   "source": [
    "# Median of Two Sorted Arrays\n",
    "Given two sorted arrays nums1 and nums2 of size m and n respectively, return the median of the two sorted arrays.\n",
    "Example 1:\n",
    "\n",
    "Input: nums1 = [1,3], nums2 = [2]\n",
    "Output: 2.00000\n",
    "Explanation: merged array = [1,2,3] and median is 2.\n",
    "Example 2:\n",
    "\n",
    "Input: nums1 = [1,2], nums2 = [3,4]\n",
    "Output: 2.50000\n",
    "Explanation: merged array = [1,2,3,4] and median is (2 + 3) / 2 = 2.5."
   ]
  },
  {
   "cell_type": "code",
   "execution_count": 64,
   "id": "667cd7cf",
   "metadata": {},
   "outputs": [
    {
     "name": "stdout",
     "output_type": "stream",
     "text": [
      "2\n",
      "2.5\n"
     ]
    }
   ],
   "source": [
    "def medianTSA(array1: list, array2: list) -> float:\n",
    "    lista = array1+array2\n",
    "    lista = sorted(lista)\n",
    "    longitud = len(lista)\n",
    "    if longitud%2 != 0: # Si es impar\n",
    "        indice = ((longitud//2)+1) -1\n",
    "        median = lista[indice]\n",
    "    else: # Si es par\n",
    "        indice = (longitud//2) -1\n",
    "        median = (lista[indice] + lista[indice+1]) /2\n",
    "    return median\n",
    "\n",
    "\n",
    "## Pruebas ##\n",
    "med = medianTSA([1,3], [2])\n",
    "print(med)\n",
    "\n",
    "med = medianTSA([1,2], [3,4])\n",
    "print(med)"
   ]
  },
  {
   "cell_type": "markdown",
   "id": "fa8afef0",
   "metadata": {},
   "source": [
    "# String to Integer (atoi)\n",
    "- Implement the myAtoi(string s) function, which converts a string to a 32-bit signed integer.\n",
    "\n",
    "- The algorithm for myAtoi(string s) is as follows:\n",
    "\n",
    "- Whitespace: Ignore any leading whitespace (\" \").\n",
    "- Signedness: Determine the sign by checking if the next character is '-' or '+', assuming positivity if neither present.\n",
    "- Conversion: Read the integer by skipping leading zeros until a non-digit character is encountered or the end of the string is reached. If no digits were read, then the result is 0.\n",
    "- Rounding: If the integer is out of the 32-bit signed integer range [-231, 231 - 1], then round the integer to remain in the range. Specifically, integers less than -231 should be rounded to -231, and integers greater than 231 - 1 should be rounded to 231 - 1."
   ]
  },
  {
   "cell_type": "code",
   "execution_count": 11,
   "id": "06e0e21e",
   "metadata": {},
   "outputs": [
    {
     "name": "stdout",
     "output_type": "stream",
     "text": [
      "'42' -> 42\n",
      "' -042' -> -42\n",
      "'1337c0d3' -> 1337\n",
      "'0-1' -> 0\n",
      "'words and 987' -> 0\n"
     ]
    }
   ],
   "source": [
    "def string_to_integer(string: str) -> int:\n",
    "    number_str = \"\"\n",
    "    start = 0\n",
    "    started_number = False\n",
    "    string = string.lstrip()\n",
    "\n",
    "    if string[0] == \"-\":\n",
    "        number_str += \"-\"\n",
    "        start = 1\n",
    "    elif string[0] == \"+\":\n",
    "        start = 1\n",
    "    \n",
    "    for i in range(start, len(string)):\n",
    "        try:\n",
    "            # Comprobando que sea numero\n",
    "            int(string[i])\n",
    "        except Exception as e:\n",
    "            # Final del numero\n",
    "            if len(number_str) == 0:\n",
    "                return 0\n",
    "            if (len(number_str) == 1) and (number_str == \"-\"):\n",
    "                return 0\n",
    "            elif len(number_str) > 0:\n",
    "                return int(number_str)\n",
    "        else:\n",
    "            # Agregando numero\n",
    "            if (not started_number) and (string[i]==\"0\"): # Ignorar\n",
    "                continue\n",
    "            elif (started_number) and (string[i]==\"0\"): # Agregar cero\n",
    "                number_str += string[i]\n",
    "            else: # Agregar numero diferente de 0\n",
    "                started_number = True\n",
    "                number_str += string[i]\n",
    "\n",
    "    # Si se completa el for entonces toda la cadena es numerica\n",
    "    return int(number_str)\n",
    "            \n",
    "\n",
    "## Pruebas ##\n",
    "s = \"42\"\n",
    "n = string_to_integer(s)\n",
    "print(f\"'{s}' -> {n}\")\n",
    "\n",
    "s = \" -042\"\n",
    "n = string_to_integer(s)\n",
    "print(f\"'{s}' -> {n}\")\n",
    "\n",
    "s = \"1337c0d3\"\n",
    "n = string_to_integer(s)\n",
    "print(f\"'{s}' -> {n}\")\n",
    "\n",
    "s = \"0-1\"\n",
    "n = string_to_integer(s)\n",
    "print(f\"'{s}' -> {n}\")\n",
    "\n",
    "s = \"words and 987\"\n",
    "n = string_to_integer(s)\n",
    "print(f\"'{s}' -> {n}\")"
   ]
  },
  {
   "cell_type": "markdown",
   "id": "48f67341",
   "metadata": {},
   "source": [
    "# Bubble Sort"
   ]
  },
  {
   "cell_type": "code",
   "execution_count": null,
   "id": "88478fef",
   "metadata": {},
   "outputs": [
    {
     "name": "stdout",
     "output_type": "stream",
     "text": [
      "[98, 26, 52, 354, 227, 206, 253, 273, 124, 275, 493, 66, 168, 59, 21, 275, 329, 126, 173, 35, 428, 333, 175, 56, 74, 151, 29, 62, 395, 295]\n",
      "[21, 26, 29, 35, 52, 56, 59, 62, 66, 74, 98, 124, 126, 151, 168, 173, 175, 206, 227, 253, 273, 275, 275, 295, 329, 333, 354, 395, 428, 493]\n"
     ]
    }
   ],
   "source": [
    "def bubble_sort(_list: list) -> list:\n",
    "    mov = -1 # Asignacion para que inicie el bucle\n",
    "    length = len(_list)\n",
    "    while(mov != 0):\n",
    "        mov = 0 # Reiniciando contador de movimientos\n",
    "        for i in range(length-1):\n",
    "            # Verificar elementos de la lista\n",
    "            if _list[i] > _list[i+1]:\n",
    "                _list[i], _list[i+1] = _list[i+1], _list[i]\n",
    "                mov += 1\n",
    "    return _list\n",
    "\n",
    "## Pruebas ##\n",
    "import random\n",
    "lista = [random.randint(1,500) for _ in range(30)]\n",
    "print(lista)\n",
    "_ord = bubble_sort(lista)\n",
    "print(_ord)"
   ]
  },
  {
   "cell_type": "markdown",
   "id": "9a098792",
   "metadata": {},
   "source": [
    "# Merge Sort"
   ]
  },
  {
   "cell_type": "code",
   "execution_count": 17,
   "id": "7aa76eba",
   "metadata": {},
   "outputs": [
    {
     "name": "stdout",
     "output_type": "stream",
     "text": [
      "[358, 284, 331, 402, 235, 245, 440, 206, 54, 111, 209, 266, 409, 453, 350, 152, 424, 55, 386, 196, 62, 358, 179, 316, 202, 194, 224, 95, 48, 335]\n",
      "[48, 54, 55, 62, 95, 111, 152, 179, 194, 196, 202, 206, 209, 224, 235, 245, 266, 284, 316, 331, 335, 350, 358, 358, 386, 402, 409, 424, 440, 453]\n"
     ]
    }
   ],
   "source": [
    "def merge_sort(_list: list):\n",
    "    if len(_list) > 1:\n",
    "        list1, list2 = split_list(_list)\n",
    "        list1, list2 = merge_sort(list1), merge_sort(list2)\n",
    "        _list = join_lists(list1, list2)\n",
    "    return _list\n",
    "        \n",
    "\n",
    "def split_list(_list: list):\n",
    "    mid = len(_list)//2\n",
    "    list1 = _list[:mid]\n",
    "    list2 = _list[mid:]\n",
    "    return list1, list2 \n",
    "        \n",
    "        \n",
    "def join_lists(list1: list, list2: list):\n",
    "    final_list = []\n",
    "    while (len(list1)>0 and len(list2)>0):\n",
    "        # Mientras haya elementos\n",
    "        if list1[0] < list2[0]:\n",
    "            final_list.append(list1[0])\n",
    "            list1.remove(list1[0])\n",
    "        else:\n",
    "            final_list.append(list2[0])\n",
    "            list2.remove(list2[0])\n",
    "    return final_list + list1 + list2\n",
    "\n",
    "## Pruebas ##\n",
    "import random\n",
    "lista = [random.randint(1,500) for _ in range(30)]\n",
    "print(lista)\n",
    "_ord = merge_sort(lista)\n",
    "print(_ord)"
   ]
  },
  {
   "cell_type": "markdown",
   "id": "1fac273e",
   "metadata": {},
   "source": [
    "# Quick Sort"
   ]
  },
  {
   "cell_type": "code",
   "execution_count": 18,
   "id": "fc44466f",
   "metadata": {},
   "outputs": [
    {
     "name": "stdout",
     "output_type": "stream",
     "text": [
      "[171, 320, 373, 489, 256, 189, 319, 332, 246, 409, 370, 401, 428, 289, 306, 345, 500, 229, 172, 120, 457, 17, 3, 64, 426, 395, 20, 500, 445, 8]\n",
      "[3, 8, 17, 20, 64, 120, 171, 172, 189, 229, 246, 256, 289, 306, 319, 320, 332, 345, 370, 373, 395, 401, 409, 426, 428, 445, 457, 489, 500, 500]\n"
     ]
    }
   ],
   "source": [
    "def quick_sort(_list: list):\n",
    "    if len(_list)>1 and check_equals(_list):\n",
    "        piv = sum(_list) / len(_list) # Obtener pivote\n",
    "        list_l, list_r = split_list_p(_list, piv)\n",
    "        list_l, list_r = quick_sort(list_l), quick_sort(list_r)\n",
    "        return list_l + list_r\n",
    "    else:\n",
    "        return _list # Si es un elemento o una lista con los mismo elementos\n",
    "\n",
    "\n",
    "def check_equals(_list: list) -> bool:\n",
    "    if len(_list) >= 1:\n",
    "        for i in _list[1:]:\n",
    "            if i != _list[0]:\n",
    "                return True\n",
    "        return False\n",
    "    else:\n",
    "        return False\n",
    "\n",
    "def split_list_p(_list: list, piv: float):\n",
    "    list_l, list_r = [], []\n",
    "    for e in _list:\n",
    "        if e < piv:\n",
    "            list_l.append(e)\n",
    "        else:\n",
    "            list_r.append(e)\n",
    "    return list_l, list_r\n",
    "\n",
    "## Pruebas ##\n",
    "import random\n",
    "lista = [random.randint(1,500) for _ in range(30)]\n",
    "print(lista)\n",
    "_ord = merge_sort(lista)\n",
    "print(_ord)"
   ]
  },
  {
   "cell_type": "markdown",
   "id": "a8199fe2",
   "metadata": {},
   "source": [
    "# Container with most water\n",
    "\n",
    "- You are given an integer array height of length n. There are n vertical lines drawn such that the two endpoints of the ith line are (i, 0) and (i, height[i]).\n",
    "\n",
    "- Find two lines that together with the x-axis form a container, such that the container contains the most water.\n",
    "\n",
    "- Return the maximum amount of water a container can store."
   ]
  },
  {
   "cell_type": "code",
   "execution_count": 9,
   "id": "6eb4d078",
   "metadata": {},
   "outputs": [
    {
     "name": "stdout",
     "output_type": "stream",
     "text": [
      "49\n"
     ]
    }
   ],
   "source": [
    "def container(_list: list) -> int:\n",
    "    total = 0\n",
    "    length = len(_list)\n",
    "    for i in range(length):\n",
    "        subtotal = 0\n",
    "        for j in range(i+1, length):\n",
    "            subtotal = 0\n",
    "            height = _list[i] if _list[i]<_list[j] else _list[j]\n",
    "            width = abs((i+1) - (j+1))\n",
    "            subtotal = height * width\n",
    "            if subtotal > total:\n",
    "                total = subtotal\n",
    "    return total\n",
    "\n",
    "\n",
    "## Pruebas ##\n",
    "_list = [1,8,6,2,5,4,8,3,7]\n",
    "total = container(_list)\n",
    "print(total)"
   ]
  },
  {
   "cell_type": "markdown",
   "id": "c50127f9",
   "metadata": {},
   "source": [
    "# Integer to Roman\n",
    "\n",
    "- Seven different symbols represent Roman numerals with the following values:\n",
    "\n",
    "Symbol\tValue\n",
    "- I\t1\n",
    "- V\t5\n",
    "- X\t10\n",
    "- L\t50\n",
    "- C\t100\n",
    "- D\t500\n",
    "- M\t1000\n",
    "\n",
    "- Roman numerals are formed by appending the conversions of decimal place values from highest to lowest. Converting a decimal place value into a Roman numeral has the following rules:\n",
    "\n",
    "    1. If the value does not start with 4 or 9, select the symbol of the maximal value that can be subtracted from the input, append that symbol to the result, subtract its value, and convert the remainder to a Roman numeral.\n",
    "    2. If the value starts with 4 or 9 use the subtractive form representing one symbol subtracted from the following symbol, for example, 4 is 1 (I) less than 5 (V): IV and 9 is 1 (I) less than 10 (X): IX. Only the following subtractive forms are used: 4 (IV), 9 (IX), 40 (XL), 90 (XC), 400 (CD) and 900 (CM).\n",
    "    3. Only powers of 10 (I, X, C, M) can be appended consecutively at most 3 times to represent multiples of 10. You cannot append 5 (V), 50 (L), or 500 (D) multiple times. If you need to append a symbol 4 times use the subtractive form.\n",
    "\n",
    "- Given an integer, convert it to a Roman numeral.\n",
    "\n"
   ]
  },
  {
   "cell_type": "code",
   "execution_count": 19,
   "id": "152e43dd",
   "metadata": {},
   "outputs": [
    {
     "name": "stdout",
     "output_type": "stream",
     "text": [
      "1569 = MDLXIX\n",
      "72 = LXXII\n",
      "1 = I\n",
      "3999 = MMMCMXCIX\n",
      "2025 = MMXXV\n"
     ]
    }
   ],
   "source": [
    "def integer_to_roman(num: int) -> str:\n",
    "    roman = \"\"\n",
    "    length = len(str(num))\n",
    "    for _ in range(length):\n",
    "        if num < 1:\n",
    "            break\n",
    "        elif (num>=1) and (num<=9):\n",
    "            # 1-9\n",
    "            if num == 1:\n",
    "                roman += \"I\"\n",
    "            elif num ==2:\n",
    "                roman += \"II\"\n",
    "            elif num ==3:\n",
    "                roman += \"III\"\n",
    "            elif num ==4:\n",
    "                roman += \"IV\"\n",
    "            elif num ==5:\n",
    "                roman += \"V\"\n",
    "            elif num ==6:\n",
    "                roman += \"VI\"\n",
    "            elif num ==7:\n",
    "                roman += \"VII\"\n",
    "            elif num ==8:\n",
    "                roman += \"VIII\"\n",
    "            elif num ==9:\n",
    "                roman += \"IX\"\n",
    "            num -= num\n",
    "        elif (num>=10) and (num<=99):\n",
    "            # 10-99\n",
    "            value = int(num * (10**(-1))) # Obtener valor del numero con mayor peso\n",
    "            if value == 1:\n",
    "                roman += \"X\"\n",
    "            elif value ==2:\n",
    "                roman += \"XX\"\n",
    "            elif value ==3:\n",
    "                roman += \"XXX\"\n",
    "            elif value ==4:\n",
    "                roman += \"XL\"\n",
    "            elif value ==5:\n",
    "                roman += \"L\"\n",
    "            elif value ==6:\n",
    "                roman += \"LX\"\n",
    "            elif value ==7:\n",
    "                roman += \"LXX\"\n",
    "            elif value ==8:\n",
    "                roman += \"LXXX\"\n",
    "            elif value ==9:\n",
    "                roman += \"XC\"\n",
    "            num -= value * (10**1) # Elimando el numero obtenido\n",
    "        elif (num>=100) and (num<=999):\n",
    "            # 100-999\n",
    "            value = int(num * (10**(-2))) # Obtener valor del numero con mayor peso\n",
    "            if value == 1:\n",
    "                roman += \"C\"\n",
    "            elif value ==2:\n",
    "                roman += \"CC\"\n",
    "            elif value ==3:\n",
    "                roman += \"CCC\"\n",
    "            elif value ==4:\n",
    "                roman += \"CD\"\n",
    "            elif value ==5:\n",
    "                roman += \"D\"\n",
    "            elif value ==6:\n",
    "                roman += \"DC\"\n",
    "            elif value ==7:\n",
    "                roman += \"DCC\"\n",
    "            elif value ==8:\n",
    "                roman += \"DCCC\"\n",
    "            elif value ==9:\n",
    "                roman += \"CM\"\n",
    "            num -= value * (10**2) # Elimando el numero obtenido\n",
    "        elif (num>=1000) and (num<=3999):\n",
    "            # 1000-3999\n",
    "            value = int(num * (10**(-3))) # Obtener valor del numero con mayor peso\n",
    "            if value == 1:\n",
    "                roman += \"M\"\n",
    "            elif value ==2:\n",
    "                roman += \"MM\"\n",
    "            elif value ==3:\n",
    "                roman += \"MMM\"\n",
    "            num -= value * (10**3) # Elimando el numero obtenido\n",
    "\n",
    "    return roman\n",
    "            \n",
    "\n",
    "## PRUEBAS ##\n",
    "num = 1569\n",
    "roman = integer_to_roman(num)\n",
    "print(f\"{num} = {roman}\")\n",
    "\n",
    "num = 72\n",
    "roman = integer_to_roman(num)\n",
    "print(f\"{num} = {roman}\")\n",
    "\n",
    "num = 1\n",
    "roman = integer_to_roman(num)\n",
    "print(f\"{num} = {roman}\")\n",
    "\n",
    "num = 3999\n",
    "roman = integer_to_roman(num)\n",
    "print(f\"{num} = {roman}\")\n",
    "\n",
    "num = 2025\n",
    "roman = integer_to_roman(num)\n",
    "print(f\"{num} = {roman}\")"
   ]
  },
  {
   "cell_type": "code",
   "execution_count": 6,
   "id": "f528a927",
   "metadata": {},
   "outputs": [
    {
     "name": "stdout",
     "output_type": "stream",
     "text": [
      "4\n",
      "4000\n"
     ]
    }
   ],
   "source": [
    "x=4589\n",
    "xx= x * (10**(-3))\n",
    "xxx = int(xx)\n",
    "print(xxx)\n",
    "z = xxx * (10**3)\n",
    "print(z)"
   ]
  },
  {
   "cell_type": "markdown",
   "id": "c024fe99",
   "metadata": {},
   "source": [
    "# 3SUM\n",
    "\n",
    "- Given an integer array nums, return all the triplets [nums[i], nums[j], nums[k]] such that i != j, i != k, and j != k, and nums[i] + nums[j] + nums[k] == 0.\n",
    "\n",
    "- Notice that the solution set must not contain duplicate triplets."
   ]
  },
  {
   "cell_type": "code",
   "execution_count": 15,
   "id": "2bc26e18",
   "metadata": {},
   "outputs": [
    {
     "name": "stdout",
     "output_type": "stream",
     "text": [
      "[-1, 0, 1, 2, -1, -4] -> [[-1, 0, 1], [-1, -1, 2]]\n",
      "[0, 1, 1] -> []\n",
      "[0, 0, 0] -> [[0, 0, 0]]\n"
     ]
    }
   ],
   "source": [
    "def three_sum(nums: list) -> list:\n",
    "    length = len(nums)\n",
    "    triplets = []\n",
    "    for i in range(length):\n",
    "        sub_triplet = []\n",
    "        for j in range(i+1, length):\n",
    "            for k in range(j+1, length):\n",
    "                if (nums[i]+nums[j]+nums[k]) == 0:\n",
    "                    sub_triplet = [nums[i],nums[j],nums[k]]\n",
    "                    sub_triplet.sort()\n",
    "                    if len(triplets) == 0: # Si esta vacia\n",
    "                        triplets.append(sub_triplet)\n",
    "                    else: # Si hay algun triplete entonces se revisa si ya existe el mismo recien creado\n",
    "                        if sub_triplet not in triplets:\n",
    "                            triplets.append(sub_triplet)\n",
    "    return triplets\n",
    "\n",
    "\n",
    "## Pruebas ##\n",
    "nums = [-1,0,1,2,-1,-4]\n",
    "res = three_sum(nums)\n",
    "print(f\"{nums} -> {res}\")\n",
    "\n",
    "nums = [0,1,1]\n",
    "res = three_sum(nums)\n",
    "print(f\"{nums} -> {res}\")\n",
    "\n",
    "nums = [0,0,0]\n",
    "res = three_sum(nums)\n",
    "print(f\"{nums} -> {res}\")"
   ]
  },
  {
   "cell_type": "markdown",
   "id": "70e2e3d3",
   "metadata": {},
   "source": [
    "# Letter Combinations of a Phone Number\n",
    "\n",
    "- Given a string containing digits from 2-9 inclusive, return all possible letter combinations that the number could represent. Return the answer in any order.\n",
    "\n",
    "- A mapping of digits to letters (just like on the telephone buttons) is given below. Note that 1 does not map to any letters."
   ]
  },
  {
   "cell_type": "code",
   "execution_count": 33,
   "id": "e9bfbf16",
   "metadata": {},
   "outputs": [
    {
     "name": "stdout",
     "output_type": "stream",
     "text": [
      "23 -> ['ad', 'ae', 'af', 'bd', 'be', 'bf', 'cd', 'ce', 'cf']\n",
      "Total combinations: 9\n",
      "\n",
      "234 -> ['ad', 'ae', 'af', 'bd', 'be', 'bf', 'cd', 'ce', 'cf', 'ag', 'ah', 'ai', 'bg', 'bh', 'bi', 'cg', 'ch', 'ci', 'dg', 'dh', 'di', 'eg', 'eh', 'ei', 'fg', 'fh', 'fi']\n",
      "Total combinations: 27\n",
      "\n",
      " -> []\n",
      "\n",
      "2 -> ['a', 'b', 'c']\n",
      "Total combinations: 3\n"
     ]
    }
   ],
   "source": [
    "def letter_combinations_phone(string: str) -> list:\n",
    "    combinations = []\n",
    "    numbers = {\n",
    "        \"2\":[\"a\",\"b\",\"c\"],\n",
    "        \"3\":[\"d\",\"e\",\"f\"],\n",
    "        \"4\":[\"g\",\"h\",\"i\"],\n",
    "        \"5\":[\"j\",\"k\",\"l\"],\n",
    "        \"6\":[\"m\",\"n\",\"o\"],\n",
    "        \"7\":[\"p\",\"q\",\"r\",\"s\"],\n",
    "        \"8\":[\"t\",\"u\",\"v\"],\n",
    "        \"9\":[\"w\",\"x\",\"y\",\"z\"]\n",
    "    }\n",
    "    length = len(string)\n",
    "\n",
    "    if length == 0:\n",
    "        return []\n",
    "    elif length == 1:\n",
    "        return numbers[string]\n",
    "    else:\n",
    "        for i in range(length-1):\n",
    "            for j in range(i+1, length):\n",
    "                try:\n",
    "                    letters_base = numbers[string[i]]\n",
    "                    letters_comb = numbers[string[j]]\n",
    "                    for letter_b in letters_base:\n",
    "                        for letter_c in letters_comb:\n",
    "                            combinations.append(letter_b + letter_c)\n",
    "                except Exception:\n",
    "                    continue\n",
    "        return combinations\n",
    "    \n",
    "## Pruebas ##\n",
    "digits = \"23\"\n",
    "comb = letter_combinations_phone(digits)\n",
    "print(f\"{digits} -> {comb}\")\n",
    "total_combinations = 3 ** len(digits)\n",
    "print(f\"Total combinations: {total_combinations}\", end=\"\\n\\n\")\n",
    "\n",
    "digits = \"234\"\n",
    "comb = letter_combinations_phone(digits)\n",
    "print(f\"{digits} -> {comb}\")\n",
    "total_combinations = 3 ** len(digits)\n",
    "print(f\"Total combinations: {total_combinations}\", end=\"\\n\\n\")\n",
    "\n",
    "digits = \"\"\n",
    "comb = letter_combinations_phone(digits)\n",
    "print(f\"{digits} -> {comb}\", end=\"\\n\\n\")\n",
    "\n",
    "digits = \"2\"\n",
    "comb = letter_combinations_phone(digits)\n",
    "print(f\"{digits} -> {comb}\")\n",
    "total_combinations = 3 ** len(digits)\n",
    "print(f\"Total combinations: {total_combinations}\")"
   ]
  },
  {
   "cell_type": "markdown",
   "id": "8f192899",
   "metadata": {},
   "source": [
    "# Remove Nth Node From End of List\n",
    "\n",
    "Given the head of a linked list, remove the nth node from the end of the list and return its head."
   ]
  },
  {
   "cell_type": "code",
   "execution_count": 10,
   "id": "be781a52",
   "metadata": {},
   "outputs": [
    {
     "name": "stdout",
     "output_type": "stream",
     "text": [
      "ELIMINAR 5\n",
      " LinkedList [head=Node [value=1, next=Node [value=2, next=Node [value=3, next=Node [value=4, next=Node [value=5, next=None]]]]]]\n",
      "LinkedList [head=Node [value=1, next=Node [value=2, next=Node [value=3, next=Node [value=4, next=None]]]]]\n",
      "\n",
      "ELIMINAR 1\n",
      " LinkedList [head=Node [value=1, next=Node [value=2, next=Node [value=3, next=Node [value=4, next=Node [value=5, next=None]]]]]]\n",
      "LinkedList [head=Node [value=2, next=Node [value=3, next=Node [value=4, next=Node [value=5, next=None]]]]]\n",
      "\n",
      "ELIMINAR 3\n",
      " LinkedList [head=Node [value=1, next=Node [value=2, next=Node [value=3, next=Node [value=4, next=Node [value=5, next=None]]]]]]\n",
      "LinkedList [head=Node [value=1, next=Node [value=2, next=Node [value=4, next=Node [value=5, next=None]]]]]\n",
      "\n"
     ]
    }
   ],
   "source": [
    "class Node:\n",
    "    def __init__(self, value):\n",
    "        self.__value = value\n",
    "        self.__next = None\n",
    "\n",
    "    @property\n",
    "    def value(self):\n",
    "        return self.__value\n",
    "    \n",
    "    @value.setter\n",
    "    def value(self, value):\n",
    "        self.__value = value\n",
    "\n",
    "    @property\n",
    "    def next(self):\n",
    "        return self.__next\n",
    "    \n",
    "    @next.setter\n",
    "    def next(self, next):\n",
    "        self.__next = next\n",
    "\n",
    "    def __str__(self):\n",
    "        return f\"Node [value={self.__value}, next={self.__next}]\"\n",
    "    \n",
    "class LinkedList:\n",
    "    def __init__(self):\n",
    "        self.head = None\n",
    "    \n",
    "    def __iterate(self, prev_node: Node, current_node: Node, position: int):\n",
    "        if current_node.next is None:\n",
    "            # Se llego al final\n",
    "            if position == 1:\n",
    "                # Si es el nodo a elimnar\n",
    "                prev_node.next = None\n",
    "                return 0\n",
    "            else:\n",
    "                # Valor para llevar el conteo para encontrar el nodo a eliminar\n",
    "                return position-1\n",
    "        else:\n",
    "            # Seguir buscando el nodo final (actualiza position para saber si se encontro la posicion)\n",
    "            position = self.__iterate(prev_node=current_node, current_node=current_node.next, position=position)\n",
    "            if position == 0:\n",
    "                # Regresar llamada (se elimino el nodo en una llamada anterior)\n",
    "                return 0\n",
    "            elif position == 1:\n",
    "                # Se encontro el nodo\n",
    "                prev_node.next = current_node.next\n",
    "                return 0\n",
    "            else:\n",
    "                # Regresar llamada actualizando el valor de posicion\n",
    "                return position-1\n",
    "            \n",
    "    def remove_Nth_node_from_end(self, position: int):\n",
    "        result = self.__iterate(prev_node=self.head, current_node=self.head.next, position=position)\n",
    "        if result == 0:\n",
    "            # Se elimino el nodo\n",
    "            return result\n",
    "        else:\n",
    "            # Se elimina el nodo head y se actualiza\n",
    "            self.head = self.head.next\n",
    "            return 0\n",
    "    \n",
    "    def __str__(self):\n",
    "        return f\"LinkedList [head={self.head}]\"\n",
    "    \n",
    "\n",
    "## Pruebas ##\n",
    "n1=Node(1)\n",
    "n2=Node(2)\n",
    "n3=Node(3)\n",
    "n4=Node(4)\n",
    "n5=Node(5)\n",
    "\n",
    "n1.next = n2\n",
    "n2.next = n3\n",
    "n3.next = n4\n",
    "n4.next = n5\n",
    "\n",
    "linkedList = LinkedList()\n",
    "\n",
    "# Eliminar 5\n",
    "n1.next = n2\n",
    "n2.next = n3\n",
    "n3.next = n4\n",
    "n4.next = n5\n",
    "linkedList.head = n1\n",
    "print(\"ELIMINAR 5\\n\", linkedList)\n",
    "res = linkedList.remove_Nth_node_from_end(1)\n",
    "print(linkedList, end=\"\\n\\n\")\n",
    "\n",
    "# Eliminar 1\n",
    "n1.next = n2\n",
    "n2.next = n3\n",
    "n3.next = n4\n",
    "n4.next = n5\n",
    "linkedList.head = n1\n",
    "print(\"ELIMINAR 1\\n\", linkedList)\n",
    "res = linkedList.remove_Nth_node_from_end(5)\n",
    "print(linkedList, end=\"\\n\\n\")\n",
    "\n",
    "# Eliminar 3\n",
    "n1.next = n2\n",
    "n2.next = n3\n",
    "n3.next = n4\n",
    "n4.next = n5\n",
    "linkedList.head = n1\n",
    "print(\"ELIMINAR 3\\n\",linkedList)\n",
    "res = linkedList.remove_Nth_node_from_end(3)\n",
    "print(linkedList, end=\"\\n\\n\")\n"
   ]
  },
  {
   "cell_type": "markdown",
   "id": "a1ce3255",
   "metadata": {},
   "source": [
    "# Valid Parentheses\n",
    "\n",
    "- Given a string s containing just the characters '(', ')', '{', '}', '[' and ']', determine if the input string is valid.\n",
    "\n",
    "- An input string is valid if:\n",
    "\n",
    "- Open brackets must be closed by the same type of brackets.\n",
    "- Open brackets must be closed in the correct order.\n",
    "- Every close bracket has a corresponding open bracket of the same type."
   ]
  },
  {
   "cell_type": "code",
   "execution_count": 26,
   "id": "2cf3b931",
   "metadata": {},
   "outputs": [
    {
     "name": "stdout",
     "output_type": "stream",
     "text": [
      "()][ -> False\n",
      "\n",
      "()[] -> True\n",
      "\n",
      "[dsd{(sdsad)}] -> True\n",
      "\n"
     ]
    }
   ],
   "source": [
    "def valid_parentheses(string:str) -> bool:\n",
    "    symbols = {\n",
    "        \"(\": 0,\n",
    "        \"[\": 0,\n",
    "        \"{\": 0,\n",
    "        \")\": 0,\n",
    "        \"]\": 0,\n",
    "        \"}\": 0\n",
    "    }\n",
    "\n",
    "    for c in string:\n",
    "        if c in symbols:\n",
    "            if (c == \")\") and (symbols[\")\"] < symbols[\"(\"]): # Si se va agregar uno de cierre entonces siempre debe haber mas llaves para abrir\n",
    "                symbols[c] += 1\n",
    "            elif (c == \"]\") and (symbols[\"]\"] < symbols[\"[\"]):\n",
    "                symbols[c] += 1\n",
    "            elif (c == \"}\") and (symbols[\"}\"] < symbols[\"{\"]):\n",
    "                symbols[c] += 1\n",
    "            elif (c == \"(\") or (c == \"[\") or (c == \"{\"):\n",
    "                symbols[c] += 1\n",
    "            else:\n",
    "                return False\n",
    "\n",
    "    \n",
    "    if (\n",
    "        (symbols[\"(\"] == symbols[\")\"]) and\n",
    "        (symbols[\"[\"]) == symbols[\"]\"] and\n",
    "        (symbols[\"{\"]) == symbols[\"}\"]\n",
    "    ):\n",
    "        return True\n",
    "    else:\n",
    "        return False\n",
    "        \n",
    "    \n",
    "\n",
    "## Pruebas ##\n",
    "s = \"()][\"\n",
    "res = valid_parentheses(s)\n",
    "print(f\"{s} -> {res}\", end=\"\\n\\n\")\n",
    "\n",
    "s = \"()[]\"\n",
    "res = valid_parentheses(s)\n",
    "print(f\"{s} -> {res}\", end=\"\\n\\n\")\n",
    "\n",
    "s = \"[dsd{(sdsad)}]\"\n",
    "res = valid_parentheses(s)\n",
    "print(f\"{s} -> {res}\", end=\"\\n\\n\")"
   ]
  },
  {
   "cell_type": "markdown",
   "id": "2d625014",
   "metadata": {},
   "source": [
    "# Find lucky integer in an array\n",
    "- Given an array of integers arr, a lucky integer is an integer that has a frequency in the array equal to its value.\n",
    "- Return the largest lucky integer in the array. If there is no lucky integer return -1"
   ]
  },
  {
   "cell_type": "code",
   "execution_count": 8,
   "id": "747264fd",
   "metadata": {},
   "outputs": [
    {
     "name": "stdout",
     "output_type": "stream",
     "text": [
      "2\n",
      "\n",
      "3\n",
      "\n",
      "-1\n",
      "\n"
     ]
    }
   ],
   "source": [
    "def lucky_integer(arr: list) -> int:\n",
    "    integers = {}\n",
    "    current_lucky = -1\n",
    "    for n in arr:\n",
    "        n_str = str(n)\n",
    "        if n_str in integers:\n",
    "            integers[n_str] +=1\n",
    "        else:\n",
    "            integers[n_str] = 1\n",
    "    for key, value in integers.items():\n",
    "        key_int = int(key)\n",
    "        if (key_int == value) and (current_lucky < value): # Verificando que cumpla condicion para ser lucky integer\n",
    "            current_lucky = value\n",
    "    return current_lucky\n",
    "\n",
    "\n",
    "### Prueba ###\n",
    "arr = [2,2,3,4]\n",
    "res = lucky_integer(arr)\n",
    "print(res, end=\"\\n\\n\")\n",
    "\n",
    "arr = [1,2,2,3,3,3]\n",
    "res = lucky_integer(arr)\n",
    "print(res, end=\"\\n\\n\")\n",
    "\n",
    "arr = [2,2,2,3,3]\n",
    "res = lucky_integer(arr)\n",
    "print(res, end=\"\\n\\n\")"
   ]
  },
  {
   "cell_type": "markdown",
   "id": "0078d138",
   "metadata": {},
   "source": [
    "# Find the Index of the First Occurrence in a String\n",
    "\n",
    "- Given two strings needle and haystack, return the index of the first occurrence of needle in haystack, or -1 if needle is not part of haystack."
   ]
  },
  {
   "cell_type": "code",
   "execution_count": 5,
   "id": "b157864a",
   "metadata": {},
   "outputs": [
    {
     "name": "stdout",
     "output_type": "stream",
     "text": [
      "7\n",
      "-1\n"
     ]
    }
   ],
   "source": [
    "def find_index_FOS(needle: str, haystack: str) -> int:\n",
    "    length_haystack = len(haystack)\n",
    "    length_needle = len(needle)\n",
    "    index = -1\n",
    "    j = -1\n",
    "    for i in range(length_haystack): # Recorrer string largo\n",
    "        # Verificar si contiene el string a buscar\n",
    "        if (haystack[i] == needle[0]) and (j==-1): # Iniciar busqueda\n",
    "            j = 1\n",
    "            index = i\n",
    "        elif (j >= length_needle): # Se encontro la cadena\n",
    "            return index\n",
    "        elif (haystack[i] == needle[j]) and j!=-1: # Seguir buscando\n",
    "            j +=1\n",
    "        elif (haystack[i] != needle[j]): # Reiniciar busqueda\n",
    "            j = -1\n",
    "            index = -1\n",
    "    return index\n",
    "\n",
    "\n",
    "## Prueba ##\n",
    "needle = \"sad\"\n",
    "haystack  = \"saadbutsad\"\n",
    "res = find_index_FOS(needle, haystack)\n",
    "print(res)\n",
    "\n",
    "needle = \"leeto\"\n",
    "haystack  = \"leetcode\"\n",
    "res = find_index_FOS(needle, haystack)\n",
    "print(res)"
   ]
  }
 ],
 "metadata": {
  "kernelspec": {
   "display_name": "base",
   "language": "python",
   "name": "python3"
  },
  "language_info": {
   "codemirror_mode": {
    "name": "ipython",
    "version": 3
   },
   "file_extension": ".py",
   "mimetype": "text/x-python",
   "name": "python",
   "nbconvert_exporter": "python",
   "pygments_lexer": "ipython3",
   "version": "3.8.8"
  }
 },
 "nbformat": 4,
 "nbformat_minor": 5
}
