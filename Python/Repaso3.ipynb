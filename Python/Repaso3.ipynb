{
 "cells": [
  {
   "cell_type": "markdown",
   "id": "9d6f117d",
   "metadata": {},
   "source": [
    "# Factorial"
   ]
  },
  {
   "cell_type": "code",
   "execution_count": 15,
   "id": "ebe092ed",
   "metadata": {},
   "outputs": [
    {
     "name": "stdout",
     "output_type": "stream",
     "text": [
      "0! = 1\n",
      "1! = 1\n",
      "2! = 2\n",
      "3! = 6\n",
      "4! = 24\n",
      "5! = 120\n",
      "6! = 720\n",
      "7! = 5040\n",
      "8! = 40320\n",
      "9! = 362880\n",
      "10! = 3628800\n"
     ]
    }
   ],
   "source": [
    "# Factorial\n",
    "def factorial(numero: int) -> int:\n",
    "    if numero==1 or numero==0:\n",
    "        return 1;\n",
    "    elif numero>1:\n",
    "        return numero * factorial(numero-1)\n",
    "    \n",
    "\n",
    "\n",
    "################# Pruebas ##################\n",
    "for i in range(11):\n",
    "    fac = factorial(i)\n",
    "    print(f\"{i}! = {fac}\")"
   ]
  },
  {
   "cell_type": "code",
   "execution_count": 16,
   "id": "81a60395",
   "metadata": {},
   "outputs": [
    {
     "name": "stdout",
     "output_type": "stream",
     "text": [
      "0! = 1\n",
      "1! = 1\n",
      "2! = 2\n",
      "3! = 6\n",
      "4! = 24\n",
      "5! = 120\n",
      "6! = 720\n",
      "7! = 5040\n",
      "8! = 40320\n",
      "9! = 362880\n",
      "10! = 3628800\n"
     ]
    }
   ],
   "source": [
    "def factorial_sin_rec(n:int):\n",
    "    res = 1\n",
    "    for i in range(1,n+1):\n",
    "        res = res*(i)\n",
    "    return res\n",
    "\n",
    "\n",
    "################# Pruebas ##################\n",
    "for i in range(11):\n",
    "    fac = factorial_sin_rec(i)\n",
    "    print(f\"{i}! = {fac}\")\n"
   ]
  },
  {
   "cell_type": "markdown",
   "id": "28368286",
   "metadata": {},
   "source": [
    "# Fibonacci"
   ]
  },
  {
   "cell_type": "code",
   "execution_count": 32,
   "id": "80255cc4",
   "metadata": {},
   "outputs": [
    {
     "name": "stdout",
     "output_type": "stream",
     "text": [
      "[0, 1, 1, 2, 3, 5, 8, 13, 21, 34, 55]\n"
     ]
    }
   ],
   "source": [
    "def serie_fibonacci(n_elementos: int) -> list:\n",
    "    serie = [0,1]\n",
    "    for i in range(2,n_elementos):\n",
    "        nuevo_numero = serie[i-2] + serie[i-1]\n",
    "        serie.append(nuevo_numero)\n",
    "    return serie\n",
    "\n",
    "\n",
    "\n",
    "#### Pruebas ####\n",
    "\n",
    "serie = serie_fibonacci(11)\n",
    "print(serie)"
   ]
  },
  {
   "cell_type": "code",
   "execution_count": null,
   "id": "1e16d03d",
   "metadata": {},
   "outputs": [
    {
     "name": "stdout",
     "output_type": "stream",
     "text": [
      "55\n"
     ]
    }
   ],
   "source": [
    "def elemento_fibonacci(indice_elemento: int):\n",
    "    '''Indice inicia en 0'''\n",
    "    if indice_elemento==0:\n",
    "        return 0;\n",
    "    elif indice_elemento==1:\n",
    "        return 1\n",
    "    else:\n",
    "        return elemento_fibonacci(indice_elemento-1) + elemento_fibonacci(indice_elemento-2)\n",
    "    \n",
    "\n",
    "###### Pruebas #####\n",
    "elemento_fib = elemento_fibonacci(10)\n",
    "print(elemento_fib)"
   ]
  },
  {
   "cell_type": "markdown",
   "id": "a6f3838e",
   "metadata": {},
   "source": [
    "# Potencia con recursividad"
   ]
  },
  {
   "cell_type": "code",
   "execution_count": null,
   "id": "3e6cfb20",
   "metadata": {},
   "outputs": [
    {
     "name": "stdout",
     "output_type": "stream",
     "text": [
      "1024\n"
     ]
    }
   ],
   "source": [
    "def potencia(num: int, exp:int):\n",
    "    if exp == 1:\n",
    "        return num\n",
    "    else:\n",
    "        return num * potencia(num, exp-1)\n",
    "    \n",
    "\n",
    "#### Pruebas ####\n",
    "pot = potencia(2,10)\n",
    "print(pot)"
   ]
  },
  {
   "cell_type": "markdown",
   "id": "6532de2b",
   "metadata": {},
   "source": [
    "# Numeros del 1 al 100 que son pares y multiplos de 8"
   ]
  },
  {
   "cell_type": "code",
   "execution_count": 51,
   "id": "7534b732",
   "metadata": {},
   "outputs": [
    {
     "name": "stdout",
     "output_type": "stream",
     "text": [
      "8\n",
      "16\n",
      "24\n",
      "32\n",
      "40\n",
      "48\n",
      "56\n",
      "64\n",
      "72\n",
      "80\n",
      "88\n",
      "96\n"
     ]
    }
   ],
   "source": [
    "for i in range(1,101):\n",
    "    if(i % 8) == 0:\n",
    "        print(i)"
   ]
  },
  {
   "cell_type": "markdown",
   "id": "12604d5e",
   "metadata": {},
   "source": [
    "# Suma de N numeros naturales"
   ]
  },
  {
   "cell_type": "code",
   "execution_count": 55,
   "id": "e0ef73d1",
   "metadata": {},
   "outputs": [
    {
     "name": "stdout",
     "output_type": "stream",
     "text": [
      "15\n"
     ]
    }
   ],
   "source": [
    "def suma_naturales(cantidad: int) -> int:\n",
    "    if cantidad == 1:\n",
    "        return 1\n",
    "    else:\n",
    "        return cantidad + suma_naturales(cantidad-1)\n",
    "    \n",
    "\n",
    "### Prueba ###\n",
    "suma = suma_naturales(5)\n",
    "print(suma)"
   ]
  },
  {
   "cell_type": "markdown",
   "id": "b2f7b473",
   "metadata": {},
   "source": [
    "# Verificar palindromo"
   ]
  },
  {
   "cell_type": "code",
   "execution_count": null,
   "id": "bef28824",
   "metadata": {},
   "outputs": [
    {
     "name": "stdout",
     "output_type": "stream",
     "text": [
      "True\n"
     ]
    }
   ],
   "source": [
    "def es_palindromo(palabra:str) -> bool:\n",
    "    palabra = palabra.lower()\n",
    "    longitud = len(palabra)\n",
    "    for i in range(longitud//2): # Se revisa hasta la mitad de la palabra\n",
    "        if palabra[i] != palabra[longitud-i-1]:\n",
    "            return False\n",
    "    return True # Si se ejecuta todo el ciclo entonces es palindromo\n",
    "\n",
    "\n",
    "## Prueba ##\n",
    "print(es_palindromo(\"reconocer\"))\n"
   ]
  },
  {
   "cell_type": "markdown",
   "id": "175c3a4f",
   "metadata": {},
   "source": [
    "# Laberinto"
   ]
  },
  {
   "cell_type": "code",
   "execution_count": 13,
   "id": "406958d4",
   "metadata": {},
   "outputs": [
    {
     "name": "stdout",
     "output_type": "stream",
     "text": [
      "Salida encontrada!\n",
      "['*', 'X', 'X', 'X', 'X', 'X', 'X', 'X']\n",
      "['*', '*', '*', '*', 'X', '*', '*', 'X']\n",
      "['X', 'X', 'X', '*', 'X', '*', 'X', 'X']\n",
      "['X', '*', 'X', '*', '*', '*', 'X', 'X']\n",
      "['X', '*', 'X', 'X', 'X', '*', 'X', 'X']\n",
      "['X', '*', '*', '*', 'X', '*', '*', 'X']\n",
      "['X', 'X', 'X', '*', 'X', 'X', '*', 'X']\n",
      "['X', 'X', 'X', '*', '*', '*', '*', '#']\n",
      "\n",
      "[[0, 0], [1, 0], [1, 1], [1, 2], [1, 3], [2, 3], [3, 3], [3, 4], [3, 5], [4, 5], [5, 5], [5, 6], [6, 6], [7, 6], [7, 7]]\n"
     ]
    }
   ],
   "source": [
    "laberinto = [\n",
    "    ['E', 'X', 'X', 'X', 'X', 'X', 'X', 'X'],\n",
    "    ['O', 'O', 'O', 'O', 'X', 'O', 'O', 'X'],\n",
    "    ['X', 'X', 'X', 'O', 'X', 'O', 'X', 'X'],\n",
    "    ['X', 'O', 'X', 'O', 'O', 'O', 'X', 'X'],\n",
    "    ['X', 'O', 'X', 'X', 'X', 'O', 'X', 'X'],\n",
    "    ['X', 'O', 'O', 'O', 'X', 'O', 'O', 'X'],\n",
    "    ['X', 'X', 'X', 'O', 'X', 'X', 'O', 'X'],\n",
    "    ['X', 'X', 'X', 'O', 'O', 'O', 'O', 'S']\n",
    "]\n",
    "\n",
    "def solucion_laberinto(laberinto: list, solucion: list):\n",
    "    punto_actual = solucion[-1] # Obtener el punto actual (ultimo punto)\n",
    "\n",
    "    # Si es salida\n",
    "    if laberinto[punto_actual[0]][punto_actual[1]] == 'S':\n",
    "        laberinto[punto_actual[0]][punto_actual[1]] = '#' # Marcarlo como visitado\n",
    "        print(\"Salida encontrada!\")\n",
    "        for i in range(len(laberinto)):\n",
    "            print(laberinto[i])\n",
    "        print()\n",
    "        return solucion\n",
    "    \n",
    "    # Si el punto es valido (camino libre)\n",
    "    elif (laberinto[punto_actual[0]][punto_actual[1]] == 'E') or laberinto[punto_actual[0]][punto_actual[1]] == 'O':\n",
    "        \n",
    "        laberinto[punto_actual[0]][punto_actual[1]] = '*' # Marcarlo como visitado\n",
    "        '''\n",
    "        for i in range(len(laberinto)):\n",
    "            print(laberinto[i])\n",
    "        print()\n",
    "        '''\n",
    "        \n",
    "        # Verificar si izquierda es limite de tablero para moverse a esa posicion\n",
    "        if (punto_actual[1] - 1) >= 0:\n",
    "            nuevo_punto = [punto_actual[0], punto_actual[1] -1]\n",
    "            solucion.append(nuevo_punto)\n",
    "            resultado = solucion_laberinto(laberinto, solucion)\n",
    "            if resultado != None:\n",
    "                return resultado\n",
    "            solucion.pop() # Se regreda al estado anterior si no funciona el punto\n",
    "\n",
    "        # Verificar si arriba es limite de tablero para moverse a esa posicion\n",
    "        if (punto_actual[0] - 1) >= 0:\n",
    "            nuevo_punto = [punto_actual[0] -1, punto_actual[1]]\n",
    "            solucion.append(nuevo_punto)\n",
    "            resultado = solucion_laberinto(laberinto, solucion)\n",
    "            if resultado != None:\n",
    "                return resultado\n",
    "            solucion.pop() # Se regreda al estado anterior si no funciona el punto\n",
    "\n",
    "        # Verificar si derecha es limite de tablero para moverse a esa posicion\n",
    "        if (punto_actual[1] + 1) < len(laberinto[0]):\n",
    "            nuevo_punto = [punto_actual[0], punto_actual[1] +1]\n",
    "            solucion.append(nuevo_punto)\n",
    "            resultado = solucion_laberinto(laberinto, solucion)\n",
    "            if resultado != None:\n",
    "                return resultado\n",
    "            solucion.pop() # Se regreda al estado anterior si no funciona el punto\n",
    "\n",
    "        # Verificar si abajo es limite de tablero para moverse a esa posicion\n",
    "        if (punto_actual[0] + 1) < len(laberinto):\n",
    "            nuevo_punto = [punto_actual[0] +1, punto_actual[1]]\n",
    "            solucion.append(nuevo_punto)\n",
    "            resultado = solucion_laberinto(laberinto, solucion)\n",
    "            if resultado != None:\n",
    "                return resultado\n",
    "            solucion.pop() # Se regreda al estado anterior si no funciona el punto\n",
    "\n",
    "        # Si ningun bloque anterior funciona, entonces se regresa a la llamada anterior\n",
    "        return None\n",
    "\n",
    "    # No es punto valido (camino libre)\n",
    "    else:\n",
    "        return None\n",
    "    \n",
    "\n",
    "sol = solucion_laberinto(laberinto, [[0,0],])\n",
    "print(sol)\n"
   ]
  },
  {
   "cell_type": "markdown",
   "id": "a3cfc7b3",
   "metadata": {},
   "source": [
    "# Arbol binario de busqueda"
   ]
  },
  {
   "cell_type": "code",
   "execution_count": 10,
   "id": "a3bea4df",
   "metadata": {},
   "outputs": [
    {
     "name": "stdout",
     "output_type": "stream",
     "text": [
      "BTS [raiz=Nodo [valor=8, izq=Nodo [valor=3, izq=Nodo [valor=1, izq=None, der=None], der=Nodo [valor=6, izq=Nodo [valor=4, izq=None, der=None], der=Nodo [valor=7, izq=None, der=None]]], der=Nodo [valor=10, izq=None, der=Nodo [valor=14, izq=Nodo [valor=13, izq=None, der=None], der=None]]]]\n"
     ]
    }
   ],
   "source": [
    "class Nodo:\n",
    "    def __init__(self, valor):\n",
    "        self.__valor = valor\n",
    "        self.__izq = None\n",
    "        self.__der = None\n",
    "\n",
    "    @property\n",
    "    def valor(self):\n",
    "        return self.__valor\n",
    "    \n",
    "    @valor.setter\n",
    "    def valor(self, valor):\n",
    "        self.__valor = valor\n",
    "\n",
    "    @property\n",
    "    def izq(self):\n",
    "        return self.__izq\n",
    "    \n",
    "    @izq.setter\n",
    "    def izq(self, izq):\n",
    "        self.__izq = izq\n",
    "\n",
    "    @property\n",
    "    def der(self):\n",
    "        return self.__der\n",
    "    \n",
    "    @der.setter\n",
    "    def der(self, der):\n",
    "        self.__der = der\n",
    "\n",
    "    def __str__(self):\n",
    "        return f\"Nodo [valor={self.__valor}, izq={self.__izq}, der={self.__der}]\"\n",
    "    \n",
    "\n",
    "class BST:\n",
    "    \"Arbol binario de busqueda\"\n",
    "    def __init__(self, nodo_inicial=None):\n",
    "        self.__raiz = nodo_inicial if nodo_inicial!=None else None\n",
    "\n",
    "    def __insertarNodo(self, nodo_actual: Nodo, nodo_insertar: Nodo):\n",
    "        if(nodo_insertar.valor <= nodo_actual.valor):\n",
    "            # Buscar a la izquierda\n",
    "            if nodo_actual.izq == None:\n",
    "                # Insertar\n",
    "                nodo_actual.izq = nodo_insertar\n",
    "                return nodo_insertar\n",
    "            else:\n",
    "                # Buscar en el siguiente nodo\n",
    "                insertado = self.__insertarNodo(nodo_actual.izq, nodo_insertar)\n",
    "        \n",
    "        else:\n",
    "            # Buscar a la derecha\n",
    "            if nodo_actual.der == None:\n",
    "                #Insertar\n",
    "                nodo_actual.der = nodo_insertar\n",
    "                return nodo_insertar\n",
    "            else:\n",
    "                # Buscar en el siguiente nodo\n",
    "                insertado = self.__insertarNodo(nodo_actual.der, nodo_insertar)\n",
    "        \n",
    "        return insertado\n",
    "    \n",
    "    def insertar(self, nodo_insertar: Nodo):\n",
    "        '''Se inicia la insercion desde la raiz'''\n",
    "        if self.__raiz == None:\n",
    "            self.__raiz = nodo_insertar\n",
    "            return nodo_insertar\n",
    "        else:\n",
    "            return self.__insertarNodo(self.__raiz, nodo_insertar)\n",
    "\n",
    "    def __str__(self):\n",
    "        return f\"BTS [raiz={self.__raiz}]\"\n",
    "    \n",
    "\n",
    "#### Pruebas ####\n",
    "valoresNodos = [8, 3, 10, 1, 6, 14, 4, 7, 13]\n",
    "arbol = BST()\n",
    "\n",
    "for valor in valoresNodos:\n",
    "    arbol.insertar(Nodo(valor))\n",
    "\n",
    "print(arbol)\n",
    "    "
   ]
  },
  {
   "cell_type": "markdown",
   "id": "9156b5c8",
   "metadata": {},
   "source": [
    "# Subtring mas largo sin repetir"
   ]
  },
  {
   "cell_type": "code",
   "execution_count": 24,
   "id": "dbe830c6",
   "metadata": {},
   "outputs": [
    {
     "name": "stdout",
     "output_type": "stream",
     "text": [
      "abc\n",
      "b\n",
      "wke\n"
     ]
    }
   ],
   "source": [
    "def buscar_sub_string(cadena: str) -> str:\n",
    "    sub_string_final = \"\"\n",
    "    sub_string_actual =\"\"\n",
    "    for i in range(len(cadena)): # Recorrer cadena original\n",
    "        sub_string_actual = \"\"\n",
    "        sub_string_actual += cadena[i]\n",
    "        for j in range(i+1, len(cadena)): # Buscar subcadena\n",
    "            if cadena[j] not in sub_string_actual:\n",
    "                # Se agrega elemento\n",
    "                sub_string_actual += cadena[j]\n",
    "            else:\n",
    "                # Se reinicia la busqueda\n",
    "                if len(sub_string_actual) > len(sub_string_final):\n",
    "                    sub_string_final = sub_string_actual\n",
    "                break\n",
    "    return sub_string_final\n",
    "\n",
    "\n",
    "## Pruebas ##\n",
    "cadena = \"abcabcbb\"\n",
    "sub_string = buscar_sub_string(cadena)\n",
    "print(sub_string)\n",
    "\n",
    "cadena = \"bbbbb\"\n",
    "sub_string = buscar_sub_string(cadena)\n",
    "print(sub_string)\n",
    "\n",
    "cadena = \"pwwkew\"\n",
    "sub_string = buscar_sub_string(cadena)\n",
    "print(sub_string)"
   ]
  },
  {
   "cell_type": "markdown",
   "id": "0ce563d1",
   "metadata": {},
   "source": [
    "# Palindromo mas largo de una  cadena"
   ]
  },
  {
   "cell_type": "code",
   "execution_count": 25,
   "id": "0f1cd6c9",
   "metadata": {},
   "outputs": [
    {
     "name": "stdout",
     "output_type": "stream",
     "text": [
      "bab\n",
      "bb\n"
     ]
    }
   ],
   "source": [
    "def es_palindromo(cadena:str) -> bool:\n",
    "    longitud = len(cadena)\n",
    "    for i in range(longitud//2):\n",
    "        if cadena[i] != cadena[longitud-1 -i]:\n",
    "            return False # Es palindromo\n",
    "    return True # No es palindromo\n",
    "\n",
    "def palindromo_largo(cadena: str) -> str:\n",
    "    palindromo_final = \"\"\n",
    "    palindromo_actual = \"\"\n",
    "    cadena_actual = \"\"\n",
    "    for i in range(len(cadena)):\n",
    "        cadena_actual = \"\"\n",
    "        cadena_actual += cadena[i]\n",
    "        for j in range(i+1, len(cadena)): # Construyendo cadena\n",
    "            cadena_actual += cadena[j]\n",
    "            if es_palindromo(cadena_actual):\n",
    "                palindromo_actual = cadena_actual\n",
    "        if palindromo_actual > palindromo_final:\n",
    "            palindromo_final = palindromo_actual\n",
    "    return palindromo_final\n",
    "\n",
    "\n",
    "## Pruebas ##\n",
    "cadena = \"babad\"\n",
    "palindromo = palindromo_largo(cadena)\n",
    "print(palindromo)\n",
    "\n",
    "cadena = \"cbbd\"\n",
    "palindromo = palindromo_largo(cadena)\n",
    "print(palindromo)"
   ]
  },
  {
   "cell_type": "markdown",
   "id": "bfeaeb66",
   "metadata": {},
   "source": [
    "# Zigzag conversion\n",
    "The string \"PAYPALISHIRING\" is written in a zigzag pattern on a given number of rows like this: (you may want to display this pattern in a fixed font for better legibility)\n",
    "P   A   H   N\n",
    "A P L S I I G\n",
    "Y   I   R\n",
    "And then read line by line: \"PAHNAPLSIIGYIR\""
   ]
  },
  {
   "cell_type": "code",
   "execution_count": null,
   "id": "cb72f476",
   "metadata": {},
   "outputs": [
    {
     "name": "stdout",
     "output_type": "stream",
     "text": [
      "PAHNAPLSIIGYIR\n",
      "PINALSIGYAHRPI\n"
     ]
    }
   ],
   "source": [
    "def zigzag(cadena: str, n_rows: int) -> str:\n",
    "    matriz = [\"\" for i in range(n_rows)]\n",
    "\n",
    "    if n_rows > 2: # Mas de 2 caracteres\n",
    "        # Distribuir caracteres\n",
    "        insertar_vertical = True\n",
    "        ren = 0 # Renglon de insercion\n",
    "        for letra in cadena:\n",
    "            if insertar_vertical:\n",
    "                matriz[ren] += letra\n",
    "                ren += 1\n",
    "                if ren == n_rows: # Se llego al limite de renglones\n",
    "                    # Se ajusta para hacer insercion en diagonal en la sig iteracion\n",
    "                    ren -= 2\n",
    "                    insertar_vertical = False\n",
    "            else:\n",
    "                matriz[ren] += letra\n",
    "                ren -= 1\n",
    "                if ren == 0: # Se realizaron las inserciones en diagonal correspondientes\n",
    "                    insertar_vertical = True\n",
    "\n",
    "    else: # Menos de 3 caracteres\n",
    "        for i in range(len(cadena)):\n",
    "            indice = i%n_rows\n",
    "            matriz[indice] += cadena[i]\n",
    "    \n",
    "    # Crear cadena final\n",
    "    resultado = \"\"\n",
    "    for vector in matriz:\n",
    "        for caracter in vector:\n",
    "            resultado += caracter\n",
    "    return resultado\n",
    "\n",
    "\n",
    "\n",
    "mat = zigzag(\"PAYPALISHIRING\",3)\n",
    "print(mat)\n",
    "\n",
    "mat = zigzag(\"PAYPALISHIRING\",4)\n",
    "print(mat)"
   ]
  },
  {
   "cell_type": "markdown",
   "id": "c74185e8",
   "metadata": {},
   "source": [
    "# Median of Two Sorted Arrays\n",
    "Given two sorted arrays nums1 and nums2 of size m and n respectively, return the median of the two sorted arrays.\n",
    "Example 1:\n",
    "\n",
    "Input: nums1 = [1,3], nums2 = [2]\n",
    "Output: 2.00000\n",
    "Explanation: merged array = [1,2,3] and median is 2.\n",
    "Example 2:\n",
    "\n",
    "Input: nums1 = [1,2], nums2 = [3,4]\n",
    "Output: 2.50000\n",
    "Explanation: merged array = [1,2,3,4] and median is (2 + 3) / 2 = 2.5."
   ]
  },
  {
   "cell_type": "code",
   "execution_count": 64,
   "id": "667cd7cf",
   "metadata": {},
   "outputs": [
    {
     "name": "stdout",
     "output_type": "stream",
     "text": [
      "2\n",
      "2.5\n"
     ]
    }
   ],
   "source": [
    "def medianTSA(array1: list, array2: list) -> float:\n",
    "    lista = array1+array2\n",
    "    lista = sorted(lista)\n",
    "    longitud = len(lista)\n",
    "    if longitud%2 != 0: # Si es impar\n",
    "        indice = ((longitud//2)+1) -1\n",
    "        median = lista[indice]\n",
    "    else: # Si es par\n",
    "        indice = (longitud//2) -1\n",
    "        median = (lista[indice] + lista[indice+1]) /2\n",
    "    return median\n",
    "\n",
    "\n",
    "## Pruebas ##\n",
    "med = medianTSA([1,3], [2])\n",
    "print(med)\n",
    "\n",
    "med = medianTSA([1,2], [3,4])\n",
    "print(med)"
   ]
  }
 ],
 "metadata": {
  "kernelspec": {
   "display_name": "base",
   "language": "python",
   "name": "python3"
  },
  "language_info": {
   "codemirror_mode": {
    "name": "ipython",
    "version": 3
   },
   "file_extension": ".py",
   "mimetype": "text/x-python",
   "name": "python",
   "nbconvert_exporter": "python",
   "pygments_lexer": "ipython3",
   "version": "3.8.8"
  }
 },
 "nbformat": 4,
 "nbformat_minor": 5
}
