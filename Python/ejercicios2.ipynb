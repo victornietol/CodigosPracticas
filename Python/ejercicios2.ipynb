{
 "cells": [
  {
   "cell_type": "markdown",
   "id": "b007baf9",
   "metadata": {},
   "source": [
    "# Fizz buzz\n",
    "\n",
    "- Escribe un programa que muestre por consola (con un print) los números de 1 a 100 (ambos incluidos y con un salto de línea entre cada impresión), sustituyendo los siguientes:\n",
    " * - Múltiplos de 3 por la palabra \"fizz\".\n",
    " * - Múltiplos de 5 por la palabra \"buzz\".\n",
    " * - Múltiplos de 3 y de 5 a la vez por la palabra \"fizzbuzz\"."
   ]
  },
  {
   "cell_type": "code",
   "execution_count": 3,
   "id": "a22c02c7",
   "metadata": {},
   "outputs": [
    {
     "name": "stdout",
     "output_type": "stream",
     "text": [
      "fizz, number=3\n",
      "buzz, number=5\n",
      "fizz, number=6\n",
      "fizz, number=9\n",
      "buzz, number=10\n",
      "fizz, number=12\n",
      "fizzbuzz, number=15\n",
      "fizz, number=18\n",
      "buzz, number=20\n",
      "fizz, number=21\n",
      "fizz, number=24\n",
      "buzz, number=25\n",
      "fizz, number=27\n",
      "fizzbuzz, number=30\n",
      "fizz, number=33\n",
      "buzz, number=35\n",
      "fizz, number=36\n",
      "fizz, number=39\n",
      "buzz, number=40\n",
      "fizz, number=42\n",
      "fizzbuzz, number=45\n",
      "fizz, number=48\n",
      "buzz, number=50\n",
      "fizz, number=51\n",
      "fizz, number=54\n",
      "buzz, number=55\n",
      "fizz, number=57\n",
      "fizzbuzz, number=60\n",
      "fizz, number=63\n",
      "buzz, number=65\n",
      "fizz, number=66\n",
      "fizz, number=69\n",
      "buzz, number=70\n",
      "fizz, number=72\n",
      "fizzbuzz, number=75\n",
      "fizz, number=78\n",
      "buzz, number=80\n",
      "fizz, number=81\n",
      "fizz, number=84\n",
      "buzz, number=85\n",
      "fizz, number=87\n",
      "fizzbuzz, number=90\n",
      "fizz, number=93\n",
      "buzz, number=95\n",
      "fizz, number=96\n",
      "fizz, number=99\n",
      "buzz, number=100\n"
     ]
    }
   ],
   "source": [
    "def fizz_buzz():\n",
    "    for i in range(1,101):\n",
    "        if (i%3==0) and (i%5==0):\n",
    "            print(f\"fizzbuzz, number={i}\")\n",
    "        elif i%3 == 0:\n",
    "            print(f\"fizz, number={i}\")\n",
    "        elif i%5 == 0:\n",
    "            print(f\"buzz, number={i}\")\n",
    "\n",
    "## Pruebas\n",
    "fizz_buzz()"
   ]
  },
  {
   "cell_type": "markdown",
   "id": "91a52e89",
   "metadata": {},
   "source": [
    "# Anagrama\n",
    "\n",
    "- Escribe una función que reciba dos palabras (String) y retorne verdadero o falso (Bool) según sean o no anagramas.\n",
    " * Un Anagrama consiste en formar una palabra reordenando TODAS las letras de otra palabra inicial.\n",
    " * NO hace falta comprobar que ambas palabras existan.\n",
    " * Dos palabras exactamente iguales no son anagrama."
   ]
  },
  {
   "cell_type": "code",
   "execution_count": 10,
   "id": "b3240cb5",
   "metadata": {},
   "outputs": [
    {
     "name": "stdout",
     "output_type": "stream",
     "text": [
      "word1=abcba, word2=abcba : True\n",
      "word1=abcba, word2=abcde : False\n"
     ]
    }
   ],
   "source": [
    "def anagrama(word1: str, word2: str) -> bool:\n",
    "    if len(word1) != len(word2):\n",
    "        return False\n",
    "    length = len(word1)\n",
    "    mid = (length//2)\n",
    "    for i in range(mid, -1, -1):\n",
    "        if word1[i] != word2[length-i-1]:\n",
    "            return False\n",
    "    return True\n",
    "\n",
    "## Pruebas\n",
    "word1 = \"abcba\"\n",
    "word2 = \"abcba\"\n",
    "print(f\"word1={word1}, word2={word2} : {anagrama(word1, word2)}\")\n",
    "word1 = \"abcba\"\n",
    "word2 = \"abcde\"\n",
    "print(f\"word1={word1}, word2={word2} : {anagrama(word1, word2)}\")"
   ]
  }
 ],
 "metadata": {
  "kernelspec": {
   "display_name": "base",
   "language": "python",
   "name": "python3"
  },
  "language_info": {
   "codemirror_mode": {
    "name": "ipython",
    "version": 3
   },
   "file_extension": ".py",
   "mimetype": "text/x-python",
   "name": "python",
   "nbconvert_exporter": "python",
   "pygments_lexer": "ipython3",
   "version": "3.8.8"
  }
 },
 "nbformat": 4,
 "nbformat_minor": 5
}
