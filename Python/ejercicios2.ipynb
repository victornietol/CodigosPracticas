{
 "cells": [
  {
   "cell_type": "markdown",
   "id": "b007baf9",
   "metadata": {},
   "source": [
    "# Fizz buzz\n",
    "\n",
    "- Escribe un programa que muestre por consola (con un print) los números de 1 a 100 (ambos incluidos y con un salto de línea entre cada impresión), sustituyendo los siguientes:\n",
    " * - Múltiplos de 3 por la palabra \"fizz\".\n",
    " * - Múltiplos de 5 por la palabra \"buzz\".\n",
    " * - Múltiplos de 3 y de 5 a la vez por la palabra \"fizzbuzz\"."
   ]
  },
  {
   "cell_type": "code",
   "execution_count": 3,
   "id": "a22c02c7",
   "metadata": {},
   "outputs": [
    {
     "name": "stdout",
     "output_type": "stream",
     "text": [
      "fizz, number=3\n",
      "buzz, number=5\n",
      "fizz, number=6\n",
      "fizz, number=9\n",
      "buzz, number=10\n",
      "fizz, number=12\n",
      "fizzbuzz, number=15\n",
      "fizz, number=18\n",
      "buzz, number=20\n",
      "fizz, number=21\n",
      "fizz, number=24\n",
      "buzz, number=25\n",
      "fizz, number=27\n",
      "fizzbuzz, number=30\n",
      "fizz, number=33\n",
      "buzz, number=35\n",
      "fizz, number=36\n",
      "fizz, number=39\n",
      "buzz, number=40\n",
      "fizz, number=42\n",
      "fizzbuzz, number=45\n",
      "fizz, number=48\n",
      "buzz, number=50\n",
      "fizz, number=51\n",
      "fizz, number=54\n",
      "buzz, number=55\n",
      "fizz, number=57\n",
      "fizzbuzz, number=60\n",
      "fizz, number=63\n",
      "buzz, number=65\n",
      "fizz, number=66\n",
      "fizz, number=69\n",
      "buzz, number=70\n",
      "fizz, number=72\n",
      "fizzbuzz, number=75\n",
      "fizz, number=78\n",
      "buzz, number=80\n",
      "fizz, number=81\n",
      "fizz, number=84\n",
      "buzz, number=85\n",
      "fizz, number=87\n",
      "fizzbuzz, number=90\n",
      "fizz, number=93\n",
      "buzz, number=95\n",
      "fizz, number=96\n",
      "fizz, number=99\n",
      "buzz, number=100\n"
     ]
    }
   ],
   "source": [
    "def fizz_buzz():\n",
    "    for i in range(1,101):\n",
    "        if (i%3==0) and (i%5==0):\n",
    "            print(f\"fizzbuzz, number={i}\")\n",
    "        elif i%3 == 0:\n",
    "            print(f\"fizz, number={i}\")\n",
    "        elif i%5 == 0:\n",
    "            print(f\"buzz, number={i}\")\n",
    "\n",
    "## Pruebas\n",
    "fizz_buzz()"
   ]
  },
  {
   "cell_type": "markdown",
   "id": "91a52e89",
   "metadata": {},
   "source": [
    "# Anagrama\n",
    "\n",
    "- Escribe una función que reciba dos palabras (String) y retorne verdadero o falso (Bool) según sean o no anagramas.\n",
    " * Un Anagrama consiste en formar una palabra reordenando TODAS las letras de otra palabra inicial.\n",
    " * NO hace falta comprobar que ambas palabras existan.\n",
    " * Dos palabras exactamente iguales no son anagrama."
   ]
  },
  {
   "cell_type": "code",
   "execution_count": 10,
   "id": "b3240cb5",
   "metadata": {},
   "outputs": [
    {
     "name": "stdout",
     "output_type": "stream",
     "text": [
      "word1=abcba, word2=abcba : True\n",
      "word1=abcba, word2=abcde : False\n"
     ]
    }
   ],
   "source": [
    "def anagrama(word1: str, word2: str) -> bool:\n",
    "    if len(word1) != len(word2):\n",
    "        return False\n",
    "    length = len(word1)\n",
    "    mid = (length//2)\n",
    "    for i in range(mid, -1, -1):\n",
    "        if word1[i] != word2[length-i-1]:\n",
    "            return False\n",
    "    return True\n",
    "\n",
    "## Pruebas\n",
    "word1 = \"abcba\"\n",
    "word2 = \"abcba\"\n",
    "print(f\"word1={word1}, word2={word2} : {anagrama(word1, word2)}\")\n",
    "word1 = \"abcba\"\n",
    "word2 = \"abcde\"\n",
    "print(f\"word1={word1}, word2={word2} : {anagrama(word1, word2)}\")"
   ]
  },
  {
   "cell_type": "markdown",
   "id": "e4def3da",
   "metadata": {},
   "source": [
    "# Jump Game\n",
    "\n",
    "- You are given an integer array nums. You are initially positioned at the array's first index, and each element in the array represents your maximum jump length at that position.\n",
    "\n",
    "- Return true if you can reach the last index, or false otherwise.\n",
    "\n",
    "Example 1:\n",
    "\n",
    "Input: nums = [2,3,1,1,4]\n",
    "Output: true\n",
    "Explanation: Jump 1 step from index 0 to 1, then 3 steps to the last index."
   ]
  },
  {
   "cell_type": "code",
   "execution_count": 6,
   "id": "bb8ef0d4",
   "metadata": {},
   "outputs": [
    {
     "name": "stdout",
     "output_type": "stream",
     "text": [
      "jumps = [2, 3, 1, 1, 4], output = True\n",
      "jumps = [3, 2, 1, 0, 4], output = False\n"
     ]
    }
   ],
   "source": [
    "def jump_game(jumps:int) -> bool:\n",
    "    finish = False\n",
    "    last_index = len(jumps)-1\n",
    "    max_jump = jumps[0]\n",
    "    base_index = 0\n",
    "    base_jumps = jumps[0]\n",
    "    while(not finish):\n",
    "        curr_ind = base_index\n",
    "        if max_jump == 0:\n",
    "            break\n",
    "        while(not finish):\n",
    "            try_index = curr_ind+max_jump\n",
    "            if try_index > last_index:\n",
    "                max_jump -=1\n",
    "                if max_jump == 0:\n",
    "                    break # No llego al final\n",
    "                else:\n",
    "                    continue # Continuar buscando con los saltos a partir del mismo index\n",
    "            elif try_index == last_index:\n",
    "                finish = True # Encontrado\n",
    "            else:\n",
    "                # Continuar buscando actualizando el index\n",
    "                curr_ind = try_index\n",
    "                max_jump = jumps[curr_ind]\n",
    "                if max_jump == 0:\n",
    "                    base_jumps -=1\n",
    "                    max_jump = base_jumps-1\n",
    "                    break\n",
    "    return finish\n",
    "\n",
    "jumps = [2,3,1,1,4]\n",
    "jumps2 = [3,2,1,0,4]\n",
    "\n",
    "res = jump_game(jumps)\n",
    "print(f\"jumps = {jumps}, output = {res}\")\n",
    "\n",
    "res = jump_game(jumps2)\n",
    "print(f\"jumps = {jumps2}, output = {res}\")"
   ]
  },
  {
   "cell_type": "markdown",
   "id": "ae916553",
   "metadata": {},
   "source": [
    "# Remove Duplicates from Sorted List\n",
    "Given the head of a sorted linked list, delete all duplicates such that each element appears only once. Return the linked list sorted as well."
   ]
  },
  {
   "cell_type": "code",
   "execution_count": null,
   "id": "209fcf02",
   "metadata": {},
   "outputs": [
    {
     "name": "stdout",
     "output_type": "stream",
     "text": [
      "Con duplicados:\n",
      "LinkedList [Node [value=1, next=Node [value=2, next=Node [value=2, next=Node [value=3, next=Node [value=4, next=Node [value=4, next=Node [value=4, next=None]]]]]]]]\n",
      "\n",
      "\n",
      "Sin duplicados: \n",
      "Node [value=1, next=Node [value=2, next=Node [value=3, next=Node [value=4, next=None]]]]\n"
     ]
    }
   ],
   "source": [
    "class Node:\n",
    "    def __init__(self, value: int):\n",
    "        self.value = value\n",
    "        self.next = None\n",
    "\n",
    "    def __str__(self):\n",
    "        return f\"Node [value={self.value}, next={self.next}]\"\n",
    "\n",
    "class LinkedList:\n",
    "    def __init__(self, head: Node):\n",
    "        self.head = head\n",
    "\n",
    "    def add_node(self, node: Node):\n",
    "        inserted = False\n",
    "        curr_node = self.head\n",
    "        while not inserted:\n",
    "            if curr_node.next == None:\n",
    "                curr_node.next = node\n",
    "                inserted = True\n",
    "            else:\n",
    "                curr_node = curr_node.next\n",
    "        return node\n",
    "\n",
    "    def __str__(self):\n",
    "        return f\"LinkedList [{self.head}]\"\n",
    "\n",
    "def remove_duplicates(head):\n",
    "    curr_node = head\n",
    "    while curr_node.next != None:\n",
    "        if curr_node.value == curr_node.next.value:\n",
    "            curr_node.next = curr_node.next.next\n",
    "        else:\n",
    "            curr_node = curr_node.next\n",
    "    return \n",
    "\n",
    "node1 = Node(1)\n",
    "node2 = Node(2)\n",
    "node3 = Node(2)\n",
    "node4 = Node(3)\n",
    "node5 = Node(4)\n",
    "node6 = Node(4)\n",
    "node7 = Node(4)\n",
    "\n",
    "linked_list = LinkedList(node1)\n",
    "linked_list.add_node(node2)\n",
    "linked_list.add_node(node3)\n",
    "linked_list.add_node(node4)\n",
    "linked_list.add_node(node5)\n",
    "linked_list.add_node(node6)\n",
    "linked_list.add_node(node7)\n",
    "\n",
    "print(\"Con duplicados:\")\n",
    "print(linked_list)\n",
    "\n",
    "print(\"\\n\\nSin duplicados: \")\n",
    "result = remove_duplicates(linked_list.head)\n",
    "print(result)"
   ]
  }
 ],
 "metadata": {
  "kernelspec": {
   "display_name": "base",
   "language": "python",
   "name": "python3"
  },
  "language_info": {
   "codemirror_mode": {
    "name": "ipython",
    "version": 3
   },
   "file_extension": ".py",
   "mimetype": "text/x-python",
   "name": "python",
   "nbconvert_exporter": "python",
   "pygments_lexer": "ipython3",
   "version": "3.8.8"
  }
 },
 "nbformat": 4,
 "nbformat_minor": 5
}
