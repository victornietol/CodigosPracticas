{
 "cells": [
  {
   "cell_type": "markdown",
   "id": "929cb14b",
   "metadata": {},
   "source": [
    "# Testing"
   ]
  },
  {
   "cell_type": "code",
   "execution_count": 3,
   "id": "9317e227",
   "metadata": {},
   "outputs": [],
   "source": [
    "import time\n",
    "import matplotlib.pyplot as plt\n",
    "\n",
    "def timer(function, value):\n",
    "    start = time.perf_counter()\n",
    "    res = function(value)\n",
    "    end= time.perf_counter()\n",
    "    t = end-start\n",
    "    return res, t\n",
    "\n",
    "def testing(function1, value_function1, function2, value_function2, iterations):\n",
    "    '''\n",
    "    Repetir n veces una funcion y graficar su tiempo de ejecucion\n",
    "    '''\n",
    "    reps = [i for i in range(1, iterations+1)]\n",
    "    times1,times2 = [],[]\n",
    "    for i in reps:\n",
    "        _, t1 = timer(function1, value_function1)\n",
    "        _, t2 = timer(function2, value_function2)\n",
    "        times1.append(t1)\n",
    "        times2.append(t2)\n",
    "    plt.plot(reps, times1, label=\"Funcion 1\", color=\"red\")\n",
    "    plt.plot(reps, times2, label=\"Funcion 2\", color=\"blue\")\n",
    "    plt.xlabel(\"Iteracion\")\n",
    "    plt.ylabel(\"Tiempo\")\n",
    "    plt.legend()\n",
    "    plt.show()"
   ]
  },
  {
   "cell_type": "markdown",
   "id": "072b2d5f",
   "metadata": {},
   "source": [
    "# Factorial"
   ]
  },
  {
   "cell_type": "code",
   "execution_count": 4,
   "id": "c902d94d",
   "metadata": {},
   "outputs": [
    {
     "name": "stdout",
     "output_type": "stream",
     "text": [
      "40! = 815915283247897734345611269596115894272000000000\n",
      "Tiempo= 0.02012260\n",
      "\n",
      "40! = 815915283247897734345611269596115894272000000000\n",
      "Tiempo= 0.00000720\n"
     ]
    },
    {
     "data": {
      "image/png": "[encoded data removed]",
      "text/plain": [
       "<Figure size 432x288 with 1 Axes>"
      ]
     },
     "metadata": {
      "needs_background": "light"
     },
     "output_type": "display_data"
    }
   ],
   "source": [
    "def facc(number: int)->int:\n",
    "    if number==0 or number==1:\n",
    "        return 1\n",
    "    elif number==2:\n",
    "        return 2\n",
    "    else:\n",
    "        return number * facc(number-1)\n",
    "    \n",
    "def facc2(number: int)->int:\n",
    "    if number == 0 or number==1:\n",
    "        return 1\n",
    "    res = number\n",
    "    for i in range(number-1,0,-1):\n",
    "        res *= i\n",
    "    return res\n",
    "\n",
    "\n",
    "# Pruebas\n",
    "num = 40\n",
    "res, t =timer(facc, num)\n",
    "print(f\"{num}! = {res}\")\n",
    "print(f\"Tiempo= {t:.8f}\\n\")\n",
    "\n",
    "res, t =timer(facc2, num)\n",
    "print(f\"{num}! = {res}\")\n",
    "print(f\"Tiempo= {t:.8f}\")\n",
    "\n",
    "testing(function1=facc, value_function1=num, function2=facc2, value_function2=num, iterations=40)"
   ]
  },
  {
   "cell_type": "markdown",
   "id": "98575914",
   "metadata": {},
   "source": [
    "# Fibonacci"
   ]
  },
  {
   "cell_type": "code",
   "execution_count": 18,
   "id": "6fe74933",
   "metadata": {},
   "outputs": [
    {
     "name": "stdout",
     "output_type": "stream",
     "text": [
      "8\n",
      "8\n",
      "[0, 1, 1, 2, 3, 5, 8, 13, 21, 34, 55, 89, 144, 233, 377, 610, 987, 1597, 2584, 4181]\n",
      "\n"
     ]
    },
    {
     "data": {
      "image/png": "[encoded data removed]",
      "text/plain": [
       "<Figure size 432x288 with 1 Axes>"
      ]
     },
     "metadata": {
      "needs_background": "light"
     },
     "output_type": "display_data"
    }
   ],
   "source": [
    "def fibb(number: int) -> int:\n",
    "    '''\n",
    "    Fibonacci con recursividad. Regresa el numero en la posicion correspondiente de la serie.\n",
    "    '''\n",
    "    if number==1:\n",
    "        return 0\n",
    "    elif number>1 and number<4:\n",
    "        return 1\n",
    "    else:\n",
    "        return fibb(number-2) + fibb(number-1)\n",
    "    \n",
    "def fibb2(number: int) -> int:\n",
    "    '''\n",
    "    Fibonacci sin recursividad. Regresa el numero en la posicion correspondiente de la serie.\n",
    "    '''\n",
    "    last_numbers = [0,1]\n",
    "    if number==1:\n",
    "        return last_numbers[0]\n",
    "    elif number>1 and number<4:\n",
    "        return last_numbers[1]\n",
    "    else:\n",
    "        for _ in range(2,number):\n",
    "            new_number = last_numbers[-2]+last_numbers[-1]\n",
    "            last_numbers = [last_numbers[-1], new_number]\n",
    "        return last_numbers[-1]\n",
    "    \n",
    "def serie_fib(n_elements: int) -> list:\n",
    "    '''\n",
    "    Regresa la serie de Fibonacci con el numero correspondiente de elementos indicados.\n",
    "    '''\n",
    "    serie = [0,1]\n",
    "    if n_elements==1:\n",
    "        return [0]\n",
    "    elif n_elements==2:\n",
    "        return serie\n",
    "    else:\n",
    "        for _ in range(2,n_elements):\n",
    "            new_number = serie[-2]+serie[-1]\n",
    "            serie.append(new_number)\n",
    "        return serie\n",
    "\n",
    "\n",
    "# Pruebas\n",
    "res = fibb(7)\n",
    "print(res)\n",
    "\n",
    "res = fibb2(7)\n",
    "print(res)\n",
    "\n",
    "ser = serie_fib(20)\n",
    "print(ser, end=\"\\n\\n\")\n",
    "\n",
    "num = 40\n",
    "testing(function1=fibb, value_function1=num, function2=fibb2, value_function2=num, iterations=20)"
   ]
  },
  {
   "cell_type": "code",
   "execution_count": 20,
   "id": "b8328696",
   "metadata": {},
   "outputs": [
    {
     "data": {
      "image/png": "[encoded data removed]",
      "text/plain": [
       "<Figure size 432x288 with 1 Axes>"
      ]
     },
     "metadata": {
      "needs_background": "light"
     },
     "output_type": "display_data"
    }
   ],
   "source": [
    "num = 10\n",
    "testing(function1=fibb, value_function1=num, function2=fibb2, value_function2=num, iterations=20)"
   ]
  }
 ],
 "metadata": {
  "kernelspec": {
   "display_name": "base",
   "language": "python",
   "name": "python3"
  },
  "language_info": {
   "codemirror_mode": {
    "name": "ipython",
    "version": 3
   },
   "file_extension": ".py",
   "mimetype": "text/x-python",
   "name": "python",
   "nbconvert_exporter": "python",
   "pygments_lexer": "ipython3",
   "version": "3.8.8"
  }
 },
 "nbformat": 4,
 "nbformat_minor": 5
}
