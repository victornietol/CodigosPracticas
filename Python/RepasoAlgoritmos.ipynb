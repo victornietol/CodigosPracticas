{
 "cells": [
  {
   "cell_type": "markdown",
   "id": "e176af01",
   "metadata": {},
   "source": [
    "# Bubble Sort"
   ]
  },
  {
   "cell_type": "code",
   "execution_count": null,
   "id": "37d096fa",
   "metadata": {},
   "outputs": [
    {
     "name": "stdout",
     "output_type": "stream",
     "text": [
      "################ SIN ORDENAMIENTO ################\n",
      "[35, 157, 168, 122, 124, 5, 74, 110, 7, 64, 69, 41, 130, 43, 126, 172, 28, 139, 113, 57, 22, 174, 96, 57, 39, 69, 196, 197, 93, 144, 111, 15, 192, 147, 27, 93, 181, 118, 61, 121, 96, 156, 10, 173, 4, 48, 85, 69, 196, 125, 145, 10, 135, 30, 125, 151, 38, 14, 71, 170, 24, 158, 46, 150, 176, 56, 80, 88, 100, 8, 18, 30, 74, 140, 35, 96, 11, 15, 163, 77, 81, 18, 178, 110, 96, 111, 129, 167, 133, 37, 28, 20, 106, 199, 52, 97, 70, 7, 61, 142]\n",
      "################ CON ORDENAMIENTO ################\n",
      "[4, 5, 7, 7, 8, 10, 10, 11, 14, 15, 15, 18, 18, 20, 22, 24, 27, 28, 28, 30, 30, 35, 35, 37, 38, 39, 41, 43, 46, 48, 52, 56, 57, 57, 61, 61, 64, 69, 69, 69, 70, 71, 74, 74, 77, 80, 81, 85, 88, 93, 93, 96, 96, 96, 96, 97, 100, 106, 110, 110, 111, 111, 113, 118, 121, 122, 124, 125, 125, 126, 129, 130, 133, 135, 139, 140, 142, 144, 145, 147, 150, 151, 156, 157, 158, 163, 167, 168, 170, 172, 173, 174, 176, 178, 181, 192, 196, 196, 197, 199]\n"
     ]
    }
   ],
   "source": [
    "def bubble_sort(elements: list) -> list:\n",
    "    length = len(elements)\n",
    "    swap = -1\n",
    "    while swap != 0:\n",
    "        swap = 0\n",
    "        for i in range(length-1):\n",
    "            if elements[i] > elements[i+1]:\n",
    "                elements[i], elements[i+1] = elements[i+1], elements[i]\n",
    "                swap += 1\n",
    "    return elements\n",
    "\n",
    "\n",
    "#### Pruebas ####\n",
    "import random\n",
    "elements = [random.randint(1,200) for _ in range(100)]\n",
    "\n",
    "print(\" SIN ORDENAMIENTO \".center(50, \"#\"))\n",
    "print(elements)\n",
    "\n",
    "print(\" CON ORDENAMIENTO \".center(50, \"#\"))\n",
    "ord = bubble_sort(elements)\n",
    "print(ord)"
   ]
  },
  {
   "cell_type": "markdown",
   "id": "e7f187a7",
   "metadata": {},
   "source": [
    "# Insertion Sort"
   ]
  },
  {
   "cell_type": "code",
   "execution_count": 11,
   "id": "12a90428",
   "metadata": {},
   "outputs": [
    {
     "name": "stdout",
     "output_type": "stream",
     "text": [
      "################ SIN ORDENAMIENTO ################\n",
      "[100, 51, 186, 146, 58, 167, 111, 176, 53, 16, 156, 45, 74, 88, 154, 29, 61, 170, 99, 130, 103, 111, 9, 199, 132, 10, 199, 151, 8, 175, 98, 6, 23, 197, 196, 41, 58, 189, 47, 91, 78, 158, 76, 90, 112, 197, 66, 10, 152, 182, 118, 66, 120, 72, 143, 56, 101, 121, 97, 48, 138, 128, 40, 86, 198, 136, 115, 194, 56, 149, 54, 60, 199, 52, 87, 1, 194, 76, 192, 130, 127, 10, 85, 145, 118, 42, 191, 152, 84, 85, 162, 22, 48, 129, 87, 152, 6, 180, 125, 51]\n",
      "################ CON ORDENAMIENTO ################\n",
      "[1, 6, 6, 8, 9, 10, 10, 10, 16, 22, 23, 29, 40, 41, 42, 45, 47, 48, 48, 51, 51, 52, 53, 54, 56, 56, 58, 58, 60, 61, 66, 66, 72, 74, 76, 76, 78, 84, 85, 85, 86, 87, 87, 88, 90, 91, 97, 98, 99, 100, 101, 103, 111, 111, 112, 115, 118, 118, 120, 121, 125, 127, 128, 129, 130, 130, 132, 136, 138, 143, 145, 146, 149, 151, 152, 152, 152, 154, 156, 158, 162, 167, 170, 175, 176, 180, 182, 186, 189, 191, 192, 194, 194, 196, 197, 197, 198, 199, 199, 199]\n"
     ]
    }
   ],
   "source": [
    "def insertion_sort(elements: list) -> list:\n",
    "    for i in range(1,len(elements)):\n",
    "        current_value = elements[i]\n",
    "        j = i-1\n",
    "        while j>=0 and elements[j]>current_value: # Ajustando elementos que son mayores al valor actual\n",
    "            elements[j+1] = elements[j]\n",
    "            j -= 1\n",
    "        elements[j+1] = current_value\n",
    "    \n",
    "    return elements\n",
    "        \n",
    "\n",
    "#### Pruebas ####\n",
    "import random\n",
    "elements = [random.randint(1,200) for _ in range(100)]\n",
    "\n",
    "print(\" SIN ORDENAMIENTO \".center(50, \"#\"))\n",
    "print(elements)\n",
    "\n",
    "print(\" CON ORDENAMIENTO \".center(50, \"#\"))\n",
    "ord = insertion_sort(elements)\n",
    "print(ord)"
   ]
  }
 ],
 "metadata": {
  "kernelspec": {
   "display_name": "base",
   "language": "python",
   "name": "python3"
  },
  "language_info": {
   "codemirror_mode": {
    "name": "ipython",
    "version": 3
   },
   "file_extension": ".py",
   "mimetype": "text/x-python",
   "name": "python",
   "nbconvert_exporter": "python",
   "pygments_lexer": "ipython3",
   "version": "3.8.8"
  }
 },
 "nbformat": 4,
 "nbformat_minor": 5
}
