{
 "cells": [
  {
   "cell_type": "markdown",
   "id": "e176af01",
   "metadata": {},
   "source": [
    "# Bubble Sort"
   ]
  },
  {
   "cell_type": "code",
   "execution_count": null,
   "id": "37d096fa",
   "metadata": {},
   "outputs": [
    {
     "name": "stdout",
     "output_type": "stream",
     "text": [
      "################ SIN ORDENAMIENTO ################\n",
      "[35, 157, 168, 122, 124, 5, 74, 110, 7, 64, 69, 41, 130, 43, 126, 172, 28, 139, 113, 57, 22, 174, 96, 57, 39, 69, 196, 197, 93, 144, 111, 15, 192, 147, 27, 93, 181, 118, 61, 121, 96, 156, 10, 173, 4, 48, 85, 69, 196, 125, 145, 10, 135, 30, 125, 151, 38, 14, 71, 170, 24, 158, 46, 150, 176, 56, 80, 88, 100, 8, 18, 30, 74, 140, 35, 96, 11, 15, 163, 77, 81, 18, 178, 110, 96, 111, 129, 167, 133, 37, 28, 20, 106, 199, 52, 97, 70, 7, 61, 142]\n",
      "################ CON ORDENAMIENTO ################\n",
      "[4, 5, 7, 7, 8, 10, 10, 11, 14, 15, 15, 18, 18, 20, 22, 24, 27, 28, 28, 30, 30, 35, 35, 37, 38, 39, 41, 43, 46, 48, 52, 56, 57, 57, 61, 61, 64, 69, 69, 69, 70, 71, 74, 74, 77, 80, 81, 85, 88, 93, 93, 96, 96, 96, 96, 97, 100, 106, 110, 110, 111, 111, 113, 118, 121, 122, 124, 125, 125, 126, 129, 130, 133, 135, 139, 140, 142, 144, 145, 147, 150, 151, 156, 157, 158, 163, 167, 168, 170, 172, 173, 174, 176, 178, 181, 192, 196, 196, 197, 199]\n"
     ]
    }
   ],
   "source": [
    "def bubble_sort(elements: list) -> list:\n",
    "    length = len(elements)\n",
    "    swap = -1\n",
    "    while swap != 0:\n",
    "        swap = 0\n",
    "        for i in range(length-1):\n",
    "            if elements[i] > elements[i+1]:\n",
    "                elements[i], elements[i+1] = elements[i+1], elements[i]\n",
    "                swap += 1\n",
    "    return elements\n",
    "\n",
    "\n",
    "#### Pruebas ####\n",
    "import random\n",
    "elements = [random.randint(1,200) for _ in range(100)]\n",
    "\n",
    "print(\" SIN ORDENAMIENTO \".center(50, \"#\"))\n",
    "print(elements)\n",
    "\n",
    "print(\" CON ORDENAMIENTO \".center(50, \"#\"))\n",
    "ord = bubble_sort(elements)\n",
    "print(ord)"
   ]
  },
  {
   "cell_type": "markdown",
   "id": "e7f187a7",
   "metadata": {},
   "source": [
    "# Insertion Sort"
   ]
  },
  {
   "cell_type": "code",
   "execution_count": 11,
   "id": "12a90428",
   "metadata": {},
   "outputs": [
    {
     "name": "stdout",
     "output_type": "stream",
     "text": [
      "################ SIN ORDENAMIENTO ################\n",
      "[100, 51, 186, 146, 58, 167, 111, 176, 53, 16, 156, 45, 74, 88, 154, 29, 61, 170, 99, 130, 103, 111, 9, 199, 132, 10, 199, 151, 8, 175, 98, 6, 23, 197, 196, 41, 58, 189, 47, 91, 78, 158, 76, 90, 112, 197, 66, 10, 152, 182, 118, 66, 120, 72, 143, 56, 101, 121, 97, 48, 138, 128, 40, 86, 198, 136, 115, 194, 56, 149, 54, 60, 199, 52, 87, 1, 194, 76, 192, 130, 127, 10, 85, 145, 118, 42, 191, 152, 84, 85, 162, 22, 48, 129, 87, 152, 6, 180, 125, 51]\n",
      "################ CON ORDENAMIENTO ################\n",
      "[1, 6, 6, 8, 9, 10, 10, 10, 16, 22, 23, 29, 40, 41, 42, 45, 47, 48, 48, 51, 51, 52, 53, 54, 56, 56, 58, 58, 60, 61, 66, 66, 72, 74, 76, 76, 78, 84, 85, 85, 86, 87, 87, 88, 90, 91, 97, 98, 99, 100, 101, 103, 111, 111, 112, 115, 118, 118, 120, 121, 125, 127, 128, 129, 130, 130, 132, 136, 138, 143, 145, 146, 149, 151, 152, 152, 152, 154, 156, 158, 162, 167, 170, 175, 176, 180, 182, 186, 189, 191, 192, 194, 194, 196, 197, 197, 198, 199, 199, 199]\n"
     ]
    }
   ],
   "source": [
    "def insertion_sort(elements: list) -> list:\n",
    "    for i in range(1,len(elements)):\n",
    "        current_value = elements[i]\n",
    "        j = i-1\n",
    "        while j>=0 and elements[j]>current_value: # Ajustando elementos que son mayores al valor actual\n",
    "            elements[j+1] = elements[j]\n",
    "            j -= 1\n",
    "        elements[j+1] = current_value\n",
    "    \n",
    "    return elements\n",
    "        \n",
    "\n",
    "#### Pruebas ####\n",
    "import random\n",
    "elements = [random.randint(1,200) for _ in range(100)]\n",
    "\n",
    "print(\" SIN ORDENAMIENTO \".center(50, \"#\"))\n",
    "print(elements)\n",
    "\n",
    "print(\" CON ORDENAMIENTO \".center(50, \"#\"))\n",
    "ord = insertion_sort(elements)\n",
    "print(ord)"
   ]
  },
  {
   "cell_type": "markdown",
   "id": "0556bc4b",
   "metadata": {},
   "source": [
    "# Merge Sort"
   ]
  },
  {
   "cell_type": "code",
   "execution_count": 3,
   "id": "cc196428",
   "metadata": {},
   "outputs": [
    {
     "name": "stdout",
     "output_type": "stream",
     "text": [
      "################ SIN ORDENAMIENTO ################\n",
      "[44, 94, 59, 29, 158, 1, 180, 185, 167, 101, 112, 91, 56, 35, 55, 99, 15, 74, 194, 30, 28, 30, 138, 12, 2, 89, 61, 188, 132, 134, 152, 26, 63, 33, 102, 63, 100, 54, 164, 99, 144, 69, 125, 19, 129, 148, 134, 129, 99, 137, 175, 127, 12, 199, 180, 56, 112, 66, 152, 164, 170, 186, 124, 196, 48, 13, 179, 24, 104, 23, 84, 131, 181, 1, 162, 123, 47, 64, 34, 111, 126, 141, 165, 90, 70, 130, 99, 110, 150, 67, 33, 91, 91, 118, 47, 14, 118, 41, 21, 164]\n",
      "################ CON ORDENAMIENTO ################\n",
      "[1, 1, 2, 12, 12, 13, 14, 15, 19, 21, 23, 24, 26, 28, 29, 30, 30, 33, 33, 34, 35, 41, 44, 47, 47, 48, 54, 55, 56, 56, 59, 61, 63, 63, 64, 66, 67, 69, 70, 74, 84, 89, 90, 91, 91, 91, 94, 99, 99, 99, 99, 100, 101, 102, 104, 110, 111, 112, 112, 118, 118, 123, 124, 125, 126, 127, 129, 129, 130, 131, 132, 134, 134, 137, 138, 141, 144, 148, 150, 152, 152, 158, 162, 164, 164, 164, 165, 167, 170, 175, 179, 180, 180, 181, 185, 186, 188, 194, 196, 199]\n"
     ]
    }
   ],
   "source": [
    "def merge(elements, L, R):\n",
    "    i = j = k = 0\n",
    "    # Unir los arreglos temporales\n",
    "    while i<len(L) and j<len(R):\n",
    "        if L[i] < R[j]:\n",
    "            elements[k] = L[i]\n",
    "            i+=1\n",
    "        else:\n",
    "            elements[k] = R[j]\n",
    "            j+=1\n",
    "        k+=1\n",
    "    \n",
    "    # Copiar los elementos restantes de L[] si hay alguno\n",
    "    while i < len(L):\n",
    "        elements[k] = L[i]\n",
    "        i+=1\n",
    "        k+=1\n",
    "\n",
    "    # Copiar los elementos restantes de R[] si hay alguno\n",
    "    while j < len(R):\n",
    "        elements[k] = R[j]\n",
    "        j+=1\n",
    "        k+=1\n",
    "\n",
    "\n",
    "def merge_sort(elements: list) -> list:\n",
    "    if len(elements) > 1:\n",
    "        mid = len(elements)//2\n",
    "        L = elements[:mid]\n",
    "        R = elements[mid:]\n",
    "\n",
    "        merge_sort(L)\n",
    "        merge_sort(R)\n",
    "\n",
    "        merge(elements, L, R)\n",
    "\n",
    "        return elements\n",
    "    \n",
    "\n",
    "\n",
    "#### Pruebas ####\n",
    "import random\n",
    "elements = [random.randint(1,200) for _ in range(100)]\n",
    "\n",
    "print(\" SIN ORDENAMIENTO \".center(50, \"#\"))\n",
    "print(elements)\n",
    "\n",
    "print(\" CON ORDENAMIENTO \".center(50, \"#\"))\n",
    "ord = merge_sort(elements)\n",
    "print(ord)"
   ]
  }
 ],
 "metadata": {
  "kernelspec": {
   "display_name": "base",
   "language": "python",
   "name": "python3"
  },
  "language_info": {
   "codemirror_mode": {
    "name": "ipython",
    "version": 3
   },
   "file_extension": ".py",
   "mimetype": "text/x-python",
   "name": "python",
   "nbconvert_exporter": "python",
   "pygments_lexer": "ipython3",
   "version": "3.8.8"
  }
 },
 "nbformat": 4,
 "nbformat_minor": 5
}
