{
 "cells": [
  {
   "cell_type": "markdown",
   "id": "e176af01",
   "metadata": {},
   "source": [
    "# Bubble Sort"
   ]
  },
  {
   "cell_type": "code",
   "execution_count": null,
   "id": "37d096fa",
   "metadata": {},
   "outputs": [
    {
     "name": "stdout",
     "output_type": "stream",
     "text": [
      "################ SIN ORDENAMIENTO ################\n",
      "[35, 157, 168, 122, 124, 5, 74, 110, 7, 64, 69, 41, 130, 43, 126, 172, 28, 139, 113, 57, 22, 174, 96, 57, 39, 69, 196, 197, 93, 144, 111, 15, 192, 147, 27, 93, 181, 118, 61, 121, 96, 156, 10, 173, 4, 48, 85, 69, 196, 125, 145, 10, 135, 30, 125, 151, 38, 14, 71, 170, 24, 158, 46, 150, 176, 56, 80, 88, 100, 8, 18, 30, 74, 140, 35, 96, 11, 15, 163, 77, 81, 18, 178, 110, 96, 111, 129, 167, 133, 37, 28, 20, 106, 199, 52, 97, 70, 7, 61, 142]\n",
      "################ CON ORDENAMIENTO ################\n",
      "[4, 5, 7, 7, 8, 10, 10, 11, 14, 15, 15, 18, 18, 20, 22, 24, 27, 28, 28, 30, 30, 35, 35, 37, 38, 39, 41, 43, 46, 48, 52, 56, 57, 57, 61, 61, 64, 69, 69, 69, 70, 71, 74, 74, 77, 80, 81, 85, 88, 93, 93, 96, 96, 96, 96, 97, 100, 106, 110, 110, 111, 111, 113, 118, 121, 122, 124, 125, 125, 126, 129, 130, 133, 135, 139, 140, 142, 144, 145, 147, 150, 151, 156, 157, 158, 163, 167, 168, 170, 172, 173, 174, 176, 178, 181, 192, 196, 196, 197, 199]\n"
     ]
    }
   ],
   "source": [
    "def bubble_sort(elements: list) -> list:\n",
    "    length = len(elements)\n",
    "    swap = -1\n",
    "    while swap != 0:\n",
    "        swap = 0\n",
    "        for i in range(length-1):\n",
    "            if elements[i] > elements[i+1]:\n",
    "                elements[i], elements[i+1] = elements[i+1], elements[i]\n",
    "                swap += 1\n",
    "    return elements\n",
    "\n",
    "\n",
    "#### Pruebas ####\n",
    "import random\n",
    "elements = [random.randint(1,200) for _ in range(100)]\n",
    "\n",
    "print(\" SIN ORDENAMIENTO \".center(50, \"#\"))\n",
    "print(elements)\n",
    "\n",
    "print(\" CON ORDENAMIENTO \".center(50, \"#\"))\n",
    "ord = bubble_sort(elements)\n",
    "print(ord)"
   ]
  },
  {
   "cell_type": "markdown",
   "id": "e7f187a7",
   "metadata": {},
   "source": [
    "# Insertion Sort"
   ]
  },
  {
   "cell_type": "code",
   "execution_count": 11,
   "id": "12a90428",
   "metadata": {},
   "outputs": [
    {
     "name": "stdout",
     "output_type": "stream",
     "text": [
      "################ SIN ORDENAMIENTO ################\n",
      "[100, 51, 186, 146, 58, 167, 111, 176, 53, 16, 156, 45, 74, 88, 154, 29, 61, 170, 99, 130, 103, 111, 9, 199, 132, 10, 199, 151, 8, 175, 98, 6, 23, 197, 196, 41, 58, 189, 47, 91, 78, 158, 76, 90, 112, 197, 66, 10, 152, 182, 118, 66, 120, 72, 143, 56, 101, 121, 97, 48, 138, 128, 40, 86, 198, 136, 115, 194, 56, 149, 54, 60, 199, 52, 87, 1, 194, 76, 192, 130, 127, 10, 85, 145, 118, 42, 191, 152, 84, 85, 162, 22, 48, 129, 87, 152, 6, 180, 125, 51]\n",
      "################ CON ORDENAMIENTO ################\n",
      "[1, 6, 6, 8, 9, 10, 10, 10, 16, 22, 23, 29, 40, 41, 42, 45, 47, 48, 48, 51, 51, 52, 53, 54, 56, 56, 58, 58, 60, 61, 66, 66, 72, 74, 76, 76, 78, 84, 85, 85, 86, 87, 87, 88, 90, 91, 97, 98, 99, 100, 101, 103, 111, 111, 112, 115, 118, 118, 120, 121, 125, 127, 128, 129, 130, 130, 132, 136, 138, 143, 145, 146, 149, 151, 152, 152, 152, 154, 156, 158, 162, 167, 170, 175, 176, 180, 182, 186, 189, 191, 192, 194, 194, 196, 197, 197, 198, 199, 199, 199]\n"
     ]
    }
   ],
   "source": [
    "def insertion_sort(elements: list) -> list:\n",
    "    for i in range(1,len(elements)):\n",
    "        current_value = elements[i]\n",
    "        j = i-1\n",
    "        while j>=0 and elements[j]>current_value: # Ajustando elementos que son mayores al valor actual\n",
    "            elements[j+1] = elements[j]\n",
    "            j -= 1\n",
    "        elements[j+1] = current_value\n",
    "    \n",
    "    return elements\n",
    "        \n",
    "\n",
    "#### Pruebas ####\n",
    "import random\n",
    "elements = [random.randint(1,200) for _ in range(100)]\n",
    "\n",
    "print(\" SIN ORDENAMIENTO \".center(50, \"#\"))\n",
    "print(elements)\n",
    "\n",
    "print(\" CON ORDENAMIENTO \".center(50, \"#\"))\n",
    "ord = insertion_sort(elements)\n",
    "print(ord)"
   ]
  },
  {
   "cell_type": "markdown",
   "id": "e092dfb9",
   "metadata": {},
   "source": [
    "# Selection sort"
   ]
  },
  {
   "cell_type": "code",
   "execution_count": 46,
   "id": "8449bd7b",
   "metadata": {},
   "outputs": [
    {
     "name": "stdout",
     "output_type": "stream",
     "text": [
      "################ SIN ORDENAMIENTO ################\n",
      "[71, 157, 100, 43, 169, 60, 8, 14, 12, 21, 51, 193, 8, 193, 146, 42, 185, 50, 149, 192, 85, 150, 94, 176, 200, 96, 185, 115, 56, 41, 64, 63, 69, 120, 2, 192, 62, 99, 178, 43, 144, 97, 60, 14, 144, 12, 114, 25, 167, 29, 32, 8, 164, 109, 194, 29, 31, 21, 178, 190, 5, 178, 35, 77, 27, 41, 197, 104, 134, 131, 166, 181, 38, 27, 125, 178, 9, 131, 47, 59, 182, 34, 12, 185, 11, 131, 188, 139, 130, 132, 198, 69, 169, 107, 79, 49, 189, 50, 198, 136]\n",
      "################ CON ORDENAMIENTO ################\n",
      "[2, 5, 8, 8, 8, 9, 11, 12, 12, 12, 14, 14, 21, 21, 25, 27, 27, 29, 29, 31, 32, 34, 35, 38, 41, 41, 42, 43, 43, 47, 49, 50, 50, 51, 56, 59, 60, 60, 62, 63, 64, 69, 69, 71, 77, 79, 85, 94, 96, 97, 99, 100, 104, 107, 109, 114, 115, 120, 125, 130, 131, 131, 131, 132, 134, 136, 139, 144, 144, 146, 149, 150, 157, 164, 166, 167, 169, 169, 176, 178, 178, 178, 178, 181, 182, 185, 185, 185, 188, 189, 190, 192, 192, 193, 193, 194, 197, 198, 198, 200]\n"
     ]
    }
   ],
   "source": [
    "def selection_sort1(arr: list) -> list:\n",
    "    length = len(arr)\n",
    "    for i in range(length):\n",
    "        ind_min = i\n",
    "        for j in range(i+1, length):\n",
    "            if arr[j] < arr[ind_min]:\n",
    "                ind_min = j\n",
    "        arr[i], arr[ind_min] = arr[ind_min], arr[i]\n",
    "    return arr\n",
    "\n",
    "\n",
    "\n",
    "#### Pruebas ####\n",
    "import random, time\n",
    "elements = [random.randint(1,200) for _ in range(100)]\n",
    "elements2 = list(elements)\n",
    "\n",
    "print(\" SIN ORDENAMIENTO \".center(50, \"#\"))\n",
    "print(elements)\n",
    "\n",
    "print(\" CON ORDENAMIENTO \".center(50, \"#\"))\n",
    "selection_sort1(elements)\n",
    "print(elements)"
   ]
  },
  {
   "cell_type": "markdown",
   "id": "0556bc4b",
   "metadata": {},
   "source": [
    "# Merge Sort"
   ]
  },
  {
   "cell_type": "code",
   "execution_count": 1,
   "id": "cc196428",
   "metadata": {},
   "outputs": [
    {
     "name": "stdout",
     "output_type": "stream",
     "text": [
      "################ SIN ORDENAMIENTO ################\n",
      "[35, 31, 37, 22, 92, 78, 85, 191, 49, 120, 28, 155, 97, 171, 144, 15, 157, 89, 150, 84, 78, 24, 197, 125, 130, 142, 31, 176, 6, 70, 26, 78, 10, 193, 98, 81, 30, 61, 87, 67, 164, 149, 178, 181, 103, 88, 1, 175, 81, 146, 132, 64, 133, 141, 13, 164, 66, 175, 56, 44, 64, 130, 169, 46, 195, 35, 91, 156, 195, 50, 67, 80, 38, 200, 37, 91, 54, 105, 188, 88, 183, 196, 34, 149, 105, 92, 96, 102, 161, 92, 127, 154, 5, 191, 45, 9, 168, 13, 48, 175]\n",
      "################ CON ORDENAMIENTO ################\n",
      "[1, 5, 6, 9, 10, 13, 13, 15, 22, 24, 26, 28, 30, 31, 31, 34, 35, 35, 37, 37, 38, 44, 45, 46, 48, 49, 50, 54, 56, 61, 64, 64, 66, 67, 67, 70, 78, 78, 78, 80, 81, 81, 84, 85, 87, 88, 88, 89, 91, 91, 92, 92, 92, 96, 97, 98, 102, 103, 105, 105, 120, 125, 127, 130, 130, 132, 133, 141, 142, 144, 146, 149, 149, 150, 154, 155, 156, 157, 161, 164, 164, 168, 169, 171, 175, 175, 175, 176, 178, 181, 183, 188, 191, 191, 193, 195, 195, 196, 197, 200]\n"
     ]
    }
   ],
   "source": [
    "def merge(elements, L, R):\n",
    "    i = j = k = 0\n",
    "    # Unir los arreglos temporales\n",
    "    while i<len(L) and j<len(R):\n",
    "        if L[i] < R[j]:\n",
    "            elements[k] = L[i]\n",
    "            i+=1\n",
    "        else:\n",
    "            elements[k] = R[j]\n",
    "            j+=1\n",
    "        k+=1\n",
    "    \n",
    "    # Copiar los elementos restantes de L[] si hay alguno\n",
    "    while i < len(L):\n",
    "        elements[k] = L[i]\n",
    "        i+=1\n",
    "        k+=1\n",
    "\n",
    "    # Copiar los elementos restantes de R[] si hay alguno\n",
    "    while j < len(R):\n",
    "        elements[k] = R[j]\n",
    "        j+=1\n",
    "        k+=1\n",
    "\n",
    "\n",
    "def merge_sort(elements: list) -> list:\n",
    "    if len(elements) > 1:\n",
    "        mid = len(elements)//2\n",
    "        L = elements[:mid]\n",
    "        R = elements[mid:]\n",
    "\n",
    "        merge_sort(L)\n",
    "        merge_sort(R)\n",
    "\n",
    "        merge(elements, L, R)\n",
    "\n",
    "        return elements\n",
    "    \n",
    "\n",
    "\n",
    "#### Pruebas ####\n",
    "import random\n",
    "elements = [random.randint(1,200) for _ in range(100)]\n",
    "\n",
    "print(\" SIN ORDENAMIENTO \".center(50, \"#\"))\n",
    "print(elements)\n",
    "\n",
    "print(\" CON ORDENAMIENTO \".center(50, \"#\"))\n",
    "ord = merge_sort(elements)\n",
    "print(ord)"
   ]
  },
  {
   "cell_type": "markdown",
   "id": "329b6bc3",
   "metadata": {},
   "source": [
    "# Quick Sort \n",
    "(Modificando el mismo array, consume menos memoria)"
   ]
  },
  {
   "cell_type": "code",
   "execution_count": 11,
   "id": "f91d005f",
   "metadata": {},
   "outputs": [
    {
     "name": "stdout",
     "output_type": "stream",
     "text": [
      "################ SIN ORDENAMIENTO ################\n",
      "[1, 4, 132, 158, 16, 180, 190, 184, 19, 45, 192, 95, 164, 167, 95, 24, 77, 147, 198, 178, 155, 49, 140, 80, 145, 63, 159, 167, 172, 25, 167, 121, 39, 104, 152, 131, 157, 122, 95, 4, 18, 145, 187, 3, 139, 54, 54, 40, 153, 162, 45, 188, 191, 25, 134, 84, 32, 139, 190, 53, 163, 198, 104, 2, 190, 142, 147, 119, 106, 48, 39, 193, 93, 156, 146, 155, 32, 114, 198, 45, 105, 23, 147, 168, 23, 150, 128, 144, 113, 99, 188, 12, 198, 7, 66, 153, 41, 153, 188, 107]\n",
      "################ CON ORDENAMIENTO ################\n",
      "[1, 2, 3, 4, 4, 7, 12, 16, 18, 19, 23, 23, 24, 25, 25, 32, 32, 39, 39, 40, 41, 45, 45, 45, 48, 49, 53, 54, 54, 63, 66, 77, 80, 84, 93, 95, 95, 95, 99, 104, 104, 105, 106, 107, 113, 114, 119, 121, 122, 128, 131, 132, 134, 139, 139, 140, 142, 144, 145, 145, 146, 147, 147, 147, 150, 152, 153, 153, 153, 155, 155, 156, 157, 158, 159, 162, 163, 164, 167, 167, 167, 168, 172, 178, 180, 184, 187, 188, 188, 188, 190, 190, 190, 191, 192, 193, 198, 198, 198, 198]\n"
     ]
    }
   ],
   "source": [
    "def quick_sort(elements, low, high): # low y high son indices de elementos\n",
    "    if low < high:\n",
    "        pi = partition(elements, low, high) # pi ya esta ordenado\n",
    "        quick_sort(elements, low, pi-1)  # Ajustar parte izquierda\n",
    "        quick_sort(elements, pi+1, high) # Ajustar parte derecha\n",
    "\n",
    "def partition(elements, low, high):\n",
    "    pivot_index = median_of_three(elements, low, high)\n",
    "    elements[pivot_index], elements[high] = elements[high], elements[pivot_index] # Colocar el pivote al final\n",
    "    pivot = elements[high]\n",
    "    i = low-1\n",
    "    for j in range(low, high):\n",
    "        if elements[j] < pivot:\n",
    "            i+=1\n",
    "            elements[i], elements[j] = elements[j], elements[i] # Intercambiar elementos si el actual es menor al pivote\n",
    "    elements[i+1], elements[high] = elements[high], elements[i+1] # Reacomodar pivote\n",
    "    return i+1\n",
    "\n",
    "def median_of_three(elements, low, high): # Seleccionar pivote\n",
    "    mid = (low+high)//2\n",
    "    l, m, h = elements[low], elements[mid], elements[high] # Obtener elementos\n",
    "    if (l <= m <= h) or (h <= m <= l): # El central\n",
    "        return mid\n",
    "    if (m <= l <= h) or (h <= l <= m): # El menor\n",
    "        return low\n",
    "    return high # El mayor\n",
    "\n",
    "\n",
    "\n",
    "#### Pruebas ####\n",
    "import random\n",
    "elements = [random.randint(1,200) for _ in range(100)]\n",
    "\n",
    "print(\" SIN ORDENAMIENTO \".center(50, \"#\"))\n",
    "print(elements)\n",
    "\n",
    "print(\" CON ORDENAMIENTO \".center(50, \"#\"))\n",
    "quick_sort(elements, 0, len(elements)-1) # (arreglo, indice_inicio, indice_final)\n",
    "print(elements)"
   ]
  },
  {
   "cell_type": "markdown",
   "id": "3c0e0d1f",
   "metadata": {},
   "source": [
    "# Linear search"
   ]
  },
  {
   "cell_type": "code",
   "execution_count": 4,
   "id": "30668963",
   "metadata": {},
   "outputs": [
    {
     "name": "stdout",
     "output_type": "stream",
     "text": [
      "5\n"
     ]
    }
   ],
   "source": [
    "def linear_search(arr: list, target):\n",
    "    for i in arr:\n",
    "        if i==target:\n",
    "            return i\n",
    "    return None # Regresar un valor que indique que no se encontro\n",
    "\n",
    "\n",
    "#### Pruebas ####\n",
    "elements = [x for x in range(1,11)]\n",
    "\n",
    "res = linear_search(elements, 5)\n",
    "print(res)"
   ]
  },
  {
   "cell_type": "markdown",
   "id": "de68619b",
   "metadata": {},
   "source": [
    "# Binary search\n",
    "(El arreglo debe estar ordenado previamente)"
   ]
  },
  {
   "cell_type": "code",
   "execution_count": 13,
   "id": "aa424b0d",
   "metadata": {},
   "outputs": [
    {
     "name": "stdout",
     "output_type": "stream",
     "text": [
      "6\n"
     ]
    }
   ],
   "source": [
    "def binary_search(arr: list, target):\n",
    "    start = 0\n",
    "    end = len(arr)-1\n",
    "    while (start<=end):\n",
    "        mid = start + ((end-start) // 2)\n",
    "        if arr[mid] == target:\n",
    "            return mid # Se encontro, devuelve el indice\n",
    "        elif arr[mid] < target:\n",
    "            start = mid +1 # Buscar parte der\n",
    "        else:\n",
    "            end = mid-1 # Buscar parte izq\n",
    "    return None # No se encontro\n",
    "\n",
    "\n",
    "#### Pruebas ####\n",
    "elements = [x for x in range(1,11)]\n",
    "\n",
    "res = binary_search(elements, 7)\n",
    "print(res)"
   ]
  },
  {
   "cell_type": "markdown",
   "id": "2a025a25",
   "metadata": {},
   "source": [
    "# Dijkstra"
   ]
  },
  {
   "cell_type": "code",
   "execution_count": 5,
   "id": "783cf915",
   "metadata": {},
   "outputs": [
    {
     "name": "stdout",
     "output_type": "stream",
     "text": [
      "A -> A: 0\n",
      "A -> B: 10\n",
      "A -> C: 1\n",
      "A -> D: 4\n",
      "A -> E: 10\n",
      "A -> F: 3\n",
      "['A', 'D', 'E']\n"
     ]
    }
   ],
   "source": [
    "import heapq\n",
    "\n",
    "def dijkstra(graph, start_node):\n",
    "    # Inicializa distancias en infinito y predecesores vacios\n",
    "    distances = {node: float(\"inf\") for node in graph}\n",
    "    distances[start_node] = 0\n",
    "    previous = {node: None for node in graph}\n",
    "\n",
    "    # Cola de prioridad (distancia_acumulad, nodo)\n",
    "    heap = [(0, start_node)]\n",
    "\n",
    "    while heap:\n",
    "        current_distance, current_node = heapq.heappop(heap)\n",
    "\n",
    "        # Si se encuentra una ruta mejor se omite\n",
    "        if current_distance > distances[current_node]:\n",
    "            continue\n",
    "\n",
    "        for neighbor, weight in graph[current_node].items():\n",
    "            distance = current_distance + weight\n",
    "\n",
    "            # Si se encuentra una ruta mas corta\n",
    "            if distance < distances[neighbor]:\n",
    "                distances[neighbor] = distance\n",
    "                previous[neighbor] = current_node\n",
    "                heapq.heappush(heap, (distance, neighbor))\n",
    "    return distances, previous\n",
    "\n",
    "\n",
    "## PRUEBAS ##\n",
    "\n",
    "graph = {\n",
    "    'A': {'B': 10, 'C': 1, 'D': 4},\n",
    "    'B': {'A': 10, 'E': 2},\n",
    "    'C': {'A': 1, 'F': 2},\n",
    "    'D': {'A': 4, 'E': 6},\n",
    "    'E': {'B': 2, 'D': 6},\n",
    "    'F': {'C': 2}\n",
    "}\n",
    "dist, prevs = dijkstra(graph, \"A\")\n",
    "for node, distance in dist.items():\n",
    "    print(f\"A -> {node}: {distance}\")\n",
    "\n",
    "# Reconstruir camino\n",
    "def rebuild_road(prevs, start, end):\n",
    "    road = []\n",
    "    current = end\n",
    "    while current is not None:\n",
    "        road.append(current)\n",
    "        current = prevs[current]\n",
    "    road.reverse()\n",
    "    return road if road[0] == start else None\n",
    "\n",
    "r = rebuild_road(prevs, \"A\", \"E\")\n",
    "print(r)"
   ]
  }
 ],
 "metadata": {
  "kernelspec": {
   "display_name": "base",
   "language": "python",
   "name": "python3"
  },
  "language_info": {
   "codemirror_mode": {
    "name": "ipython",
    "version": 3
   },
   "file_extension": ".py",
   "mimetype": "text/x-python",
   "name": "python",
   "nbconvert_exporter": "python",
   "pygments_lexer": "ipython3",
   "version": "3.8.8"
  }
 },
 "nbformat": 4,
 "nbformat_minor": 5
}
