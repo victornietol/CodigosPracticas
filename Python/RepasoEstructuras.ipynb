{
 "cells": [
  {
   "cell_type": "markdown",
   "id": "6a5f7adf",
   "metadata": {},
   "source": [
    "# Single Linked List"
   ]
  },
  {
   "cell_type": "code",
   "execution_count": 23,
   "id": "a70f163b",
   "metadata": {},
   "outputs": [
    {
     "name": "stdout",
     "output_type": "stream",
     "text": [
      "SSL [Node [value=1, next=[Node [value=2, next=[Node [value=3, next=[Node [value=4, next=[None]]]]]]]]]\n"
     ]
    }
   ],
   "source": [
    "class Node:\n",
    "    def __init__(self, value:int):\n",
    "        self.value = value\n",
    "        self.next = None\n",
    "    \n",
    "    def __str__(self):\n",
    "        return f\"Node [value={self.value}, next=[{self.next}]]\"\n",
    "\n",
    "class SLL:\n",
    "    def __init__(self, start: Node):\n",
    "        self.start = start\n",
    "\n",
    "    def add_node(self, node: Node):\n",
    "        if self.start.next is None:\n",
    "            self.start.next = node\n",
    "        else:\n",
    "            last_node = self.__search_node()\n",
    "            last_node.next = node\n",
    "\n",
    "    def __search_node(self) -> Node: # Busca el nodo para poder insertar\n",
    "        current_node = self.start.next\n",
    "        while current_node.next != None:\n",
    "            current_node = current_node.next\n",
    "        return current_node\n",
    "    \n",
    "    def __str__(self):\n",
    "        return f\"SSL [{self.start}]\"\n",
    "\n",
    "\n",
    "\n",
    "# Pruebas\n",
    "n1 = Node(1)\n",
    "n2 = Node(2)\n",
    "n3 = Node(3)\n",
    "n4 = Node(4)\n",
    "singleLL = SLL(n1)\n",
    "singleLL.add_node(n2)\n",
    "singleLL.add_node(n3)\n",
    "singleLL.add_node(n4)\n",
    "\n",
    "print(singleLL)\n",
    "\n",
    "        "
   ]
  }
 ],
 "metadata": {
  "kernelspec": {
   "display_name": "base",
   "language": "python",
   "name": "python3"
  },
  "language_info": {
   "codemirror_mode": {
    "name": "ipython",
    "version": 3
   },
   "file_extension": ".py",
   "mimetype": "text/x-python",
   "name": "python",
   "nbconvert_exporter": "python",
   "pygments_lexer": "ipython3",
   "version": "3.8.8"
  }
 },
 "nbformat": 4,
 "nbformat_minor": 5
}
