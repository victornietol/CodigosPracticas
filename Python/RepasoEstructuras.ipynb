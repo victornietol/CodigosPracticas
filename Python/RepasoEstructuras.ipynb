{
 "cells": [
  {
   "cell_type": "markdown",
   "id": "6a5f7adf",
   "metadata": {},
   "source": [
    "# Single Linked List"
   ]
  },
  {
   "cell_type": "code",
   "execution_count": 23,
   "id": "a70f163b",
   "metadata": {},
   "outputs": [
    {
     "name": "stdout",
     "output_type": "stream",
     "text": [
      "SSL [Node [value=1, next=[Node [value=2, next=[Node [value=3, next=[Node [value=4, next=[None]]]]]]]]]\n"
     ]
    }
   ],
   "source": [
    "class Node:\n",
    "    def __init__(self, value:int):\n",
    "        self.value = value\n",
    "        self.next = None\n",
    "    \n",
    "    def __str__(self):\n",
    "        return f\"Node [value={self.value}, next=[{self.next}]]\"\n",
    "\n",
    "class SLL:\n",
    "    def __init__(self, start: Node):\n",
    "        self.start = start\n",
    "\n",
    "    def add_node(self, node: Node):\n",
    "        if self.start.next is None:\n",
    "            self.start.next = node\n",
    "        else:\n",
    "            last_node = self.__search_node()\n",
    "            last_node.next = node\n",
    "\n",
    "    def __search_node(self) -> Node: # Busca el nodo para poder insertar\n",
    "        current_node = self.start.next\n",
    "        while current_node.next != None:\n",
    "            current_node = current_node.next\n",
    "        return current_node\n",
    "    \n",
    "    def __str__(self):\n",
    "        return f\"SSL [{self.start}]\"\n",
    "\n",
    "\n",
    "# Pruebas\n",
    "n1 = Node(1)\n",
    "n2 = Node(2)\n",
    "n3 = Node(3)\n",
    "n4 = Node(4)\n",
    "singleLL = SLL(n1)\n",
    "singleLL.add_node(n2)\n",
    "singleLL.add_node(n3)\n",
    "singleLL.add_node(n4)\n",
    "\n",
    "print(singleLL)\n",
    "\n",
    "        "
   ]
  },
  {
   "cell_type": "markdown",
   "id": "ff10c8ca",
   "metadata": {},
   "source": [
    "# Double Linked List"
   ]
  },
  {
   "cell_type": "code",
   "execution_count": null,
   "id": "2af2308a",
   "metadata": {},
   "outputs": [
    {
     "name": "stdout",
     "output_type": "stream",
     "text": [
      "DLL [start=Node [value=1, prev=[None], next=[2], Node [value=2, prev=[1], next=[3], Node [value=3, prev=[2], next=[4], Node [value=4, prev=[3], next=[None]]\n"
     ]
    }
   ],
   "source": [
    "class Node:\n",
    "    def __init__(self, value:int):\n",
    "        self.value = value\n",
    "        self.next = None\n",
    "        self.prev = None\n",
    "    \n",
    "    def str_nexts(self):\n",
    "        return f\"Node [value={self.value}, next=[{self.next}]]\"\n",
    "    \n",
    "    def str_prevs(self):\n",
    "        return f\"Node [value={self.value}, prev=[{self.prev}]]\"\n",
    "\n",
    "    def __str__(self):\n",
    "        return f\"Node [value={self.value}, \"\\\n",
    "            + f\"prev=[{None if self.prev is None else self.prev.value}], \"\\\n",
    "            + f\"next=[{None if self.next is None else self.next.value}]\"\n",
    "    \n",
    "\n",
    "class DLL:\n",
    "    def __init__(self, start: Node):\n",
    "        self.start = start\n",
    "\n",
    "    def add_node(self, node: Node) -> Node:\n",
    "        if self.start.next is None:\n",
    "            node.prev = self.start\n",
    "            self.start.next = node\n",
    "        else:\n",
    "            last_node = self.__search_node()\n",
    "            node.prev = last_node\n",
    "            last_node.next = node\n",
    "        return node\n",
    "    \n",
    "    def __search_node(self) -> Node:\n",
    "        current_node = self.start.next # Nodo inicial de busqueda\n",
    "        while current_node.next != None:\n",
    "            current_node = current_node.next\n",
    "        return current_node\n",
    "    \n",
    "    def __str__(self):\n",
    "        string = f\"DLL [start={self.start}\"\n",
    "        if self.start.next is not None:\n",
    "            curr_node = self.start.next\n",
    "            while curr_node != None:\n",
    "                string += f\", {curr_node}\"\n",
    "                curr_node = curr_node.next\n",
    "        return string + \"]\"\n",
    "    \n",
    "\n",
    "# Pruebas\n",
    "n1 = Node(1)\n",
    "n2 = Node(2)\n",
    "n3 = Node(3)\n",
    "n4 = Node(4)\n",
    "DoubleLL = DLL(n1)\n",
    "DoubleLL.add_node(n2)\n",
    "DoubleLL.add_node(n3)\n",
    "DoubleLL.add_node(n4)\n",
    "\n",
    "print(DoubleLL)"
   ]
  },
  {
   "cell_type": "markdown",
   "id": "b7e765df",
   "metadata": {},
   "source": [
    "# Stack"
   ]
  },
  {
   "cell_type": "code",
   "execution_count": 7,
   "id": "d02353f4",
   "metadata": {},
   "outputs": [
    {
     "name": "stdout",
     "output_type": "stream",
     "text": [
      "[3, 2, 1]\n",
      "Actualizado: [2, 1], eliminado: 3\n"
     ]
    }
   ],
   "source": [
    "class Stack:\n",
    "    def __init__(self):\n",
    "        self.stack = []\n",
    "\n",
    "    def push(self, element):\n",
    "        if len(self.stack) == 0:\n",
    "            self.stack.append(element)\n",
    "        else:\n",
    "            new_stack = [element]\n",
    "            new_stack += self.stack\n",
    "            self.stack = new_stack\n",
    "        return element\n",
    "    \n",
    "    def pop(self):\n",
    "        element = self.stack[0]\n",
    "        self.stack = self.stack[1:]\n",
    "        return element\n",
    "\n",
    "    def __str__(self):\n",
    "        return f\"{self.stack}\"\n",
    "    \n",
    "\n",
    "# Prueba\n",
    "st = Stack()\n",
    "st.push(1)\n",
    "st.push(2)\n",
    "st.push(3)\n",
    "\n",
    "print(st)\n",
    "\n",
    "deleted = st.pop()\n",
    "print(f\"Actualizado: {st}, eliminado: {deleted}\")\n",
    "        "
   ]
  },
  {
   "cell_type": "markdown",
   "id": "b3f5da9e",
   "metadata": {},
   "source": [
    "# Queue"
   ]
  },
  {
   "cell_type": "code",
   "execution_count": 1,
   "id": "4b1c96c5",
   "metadata": {},
   "outputs": [
    {
     "name": "stdout",
     "output_type": "stream",
     "text": [
      "[1, 2, 3]\n",
      "Actualizado: [2, 3], eliminado: 1\n"
     ]
    }
   ],
   "source": [
    "class Queue:\n",
    "    def __init__(self):\n",
    "        self.queue = []\n",
    "\n",
    "    def add(self, element):\n",
    "        self.queue.append(element)\n",
    "        return element\n",
    "    \n",
    "    def dequeue(self):\n",
    "        element = self.queue[0]\n",
    "        self.queue = self.queue[1:]\n",
    "        return element\n",
    "    \n",
    "    def __str__(self):\n",
    "        return f\"{self.queue}\"\n",
    "    \n",
    "\n",
    "# Prueba\n",
    "q = Queue()\n",
    "q.add(1)\n",
    "q.add(2)\n",
    "q.add(3)\n",
    "\n",
    "print(q)\n",
    "\n",
    "deleted = q.dequeue()\n",
    "print(f\"Actualizado: {q}, eliminado: {deleted}\")"
   ]
  },
  {
   "cell_type": "markdown",
   "id": "b57f0713",
   "metadata": {},
   "source": [
    "# Binary Search Tree"
   ]
  },
  {
   "cell_type": "code",
   "execution_count": 10,
   "id": "4b9e37c7",
   "metadata": {},
   "outputs": [
    {
     "name": "stdout",
     "output_type": "stream",
     "text": [
      "root=Node [value=4, left=Node [value=1, left=None, right=Node [value=2, left=Node [value=1, left=None, right=None], right=Node [value=3, left=None, right=None]]], right=Node [value=5, left=None, right=Node [value=6, left=None, right=None]]]\n",
      "Buscar 3 = 3\n",
      "Buscar 10 = None\n"
     ]
    }
   ],
   "source": [
    "class Node:\n",
    "    def __init__(self, value):\n",
    "        self.value = value\n",
    "        self.left = None\n",
    "        self.right = None\n",
    "\n",
    "    def __str__(self):\n",
    "        return f\"Node [value={self.value}, left={self.left}, right={self.right}]\"\n",
    "    \n",
    "class BST:\n",
    "    def __init__(self, root: Node):\n",
    "        self.root = root\n",
    "\n",
    "    def add_node(self, node: Node):\n",
    "        current_node = self.root\n",
    "        insert = False\n",
    "        while insert==False:\n",
    "            if node.value < current_node.value:\n",
    "                if current_node.left is None:\n",
    "                    current_node.left = node\n",
    "                    insert = True\n",
    "                else:\n",
    "                    current_node = current_node.left\n",
    "            else:\n",
    "                if current_node.right is None:\n",
    "                    current_node.right = node\n",
    "                    insert = True\n",
    "                else:\n",
    "                    current_node = current_node.right\n",
    "\n",
    "    def search_node(self, value):\n",
    "        curr_node = self.root\n",
    "        while curr_node != None:\n",
    "            if curr_node.value == value:\n",
    "                return value\n",
    "            elif (curr_node.left is not None) and (value < curr_node.value):\n",
    "                curr_node = curr_node.left\n",
    "            elif (curr_node.right is not None) and (value >= curr_node.value):\n",
    "                curr_node = curr_node.right\n",
    "            else:\n",
    "                return None # No se encontro\n",
    "\n",
    "    def __add_node_recursive(self, node):\n",
    "        pass\n",
    "\n",
    "    def __str__(self):\n",
    "        return f\"root={self.root}\"\n",
    "\n",
    "\n",
    "# Pruebas\n",
    "n1 = Node(1)\n",
    "n2 = Node(2)\n",
    "n3 = Node(3)\n",
    "n4 = Node(4)\n",
    "n5 = Node(5)\n",
    "n6 = Node(6)\n",
    "\n",
    "tree = BST(n4)\n",
    "tree.add_node(n1)\n",
    "tree.add_node(n2)\n",
    "tree.add_node(n3)\n",
    "tree.add_node(n5)\n",
    "tree.add_node(n6)\n",
    "\n",
    "n7 = Node(1)\n",
    "tree.add_node(n7)\n",
    "\n",
    "print(tree)\n",
    "\n",
    "found = tree.search_node(3)\n",
    "print(f\"Buscar 3 = {found}\")\n",
    "found2 = tree.search_node(10)\n",
    "print(f\"Buscar 10 = {found2}\")"
   ]
  }
 ],
 "metadata": {
  "kernelspec": {
   "display_name": "base",
   "language": "python",
   "name": "python3"
  },
  "language_info": {
   "codemirror_mode": {
    "name": "ipython",
    "version": 3
   },
   "file_extension": ".py",
   "mimetype": "text/x-python",
   "name": "python",
   "nbconvert_exporter": "python",
   "pygments_lexer": "ipython3",
   "version": "3.8.8"
  }
 },
 "nbformat": 4,
 "nbformat_minor": 5
}
